{
 "cells": [
  {
   "cell_type": "code",
   "execution_count": 1,
   "id": "d02399b1",
   "metadata": {},
   "outputs": [],
   "source": [
    "import lifesim\n",
    "import matplotlib.pyplot as plt\n",
    "import numpy as np\n",
    "import pandas as pd\n",
    "from tqdm import tqdm\n",
    "import seaborn as sns\n",
    "import matplotlib\n",
    "from matplotlib.lines import Line2D"
   ]
  },
  {
   "cell_type": "markdown",
   "id": "0c9722a5",
   "metadata": {},
   "source": [
    "### Import the catalog in Lay configuration with paper I occurrence statistics"
   ]
  },
  {
   "cell_type": "code",
   "execution_count": 2,
   "id": "e393f359",
   "metadata": {},
   "outputs": [
    {
     "name": "stdout",
     "output_type": "stream",
     "text": [
      "Importing Catalog...\n",
      "Beginning Import...\n",
      "Import completed (Time: 0.579148530960083), changing string object types...\n",
      "[Done] (Time: 0.05148172378540039)\n",
      "Importing Noise Catalog...\n",
      "[Done]\n",
      "Number of planets detected by stellar type:\n",
      "A: 0.0  F: 0.072  G: 0.694  K: 4.216  M: 38.626  -  (2.0 / 2.0) yrs observed\n"
     ]
    }
   ],
   "source": [
    "bus_0 = lifesim.Bus()\n",
    "bus_0.build_from_config(filename='/home/ipa/quanz/user_accounts/fdannert/noise_paper_23/70_results/S01_Lay/'\n",
    "                        'S01_base_SAG13_April23.yaml')\n",
    "\n",
    "bus_0.data.import_catalog(input_path='/home/ipa/quanz/user_accounts/fdannert/noise_paper_23/70_results/S01_Lay/'\n",
    "                                   'S01_base_SAG13_April23_catalog.hdf5',\n",
    "                        noise_catalog=True)\n",
    "\n",
    "ana = lifesim.SampleAnalysisModule(name='ana')\n",
    "bus_0.add_module(ana)\n",
    "\n",
    "ana.get_fundamental_snr()\n",
    "\n",
    "opt_0 = lifesim.Optimizer(name='opt_0')\n",
    "bus_0.add_module(opt_0)\n",
    "ahgs_0 = lifesim.AhgsModule(name='ahgs_0')\n",
    "bus_0.add_module(ahgs_0)\n",
    "\n",
    "bus_0.connect(('opt_0', 'ahgs_0'))\n",
    "opt_0.ahgs()"
   ]
  },
  {
   "cell_type": "code",
   "execution_count": 3,
   "id": "942f80a9",
   "metadata": {},
   "outputs": [
    {
     "name": "stdout",
     "output_type": "stream",
     "text": [
      "Importing Catalog...\n",
      "Beginning Import...\n",
      "Import completed (Time: 0.426105260848999), changing string object types...\n",
      "[Done] (Time: 0.04756569862365723)\n",
      "Importing Noise Catalog...\n",
      "[Done]\n",
      "Number of planets detected by stellar type:\n",
      "A: 0.0  F: 0.0  G: 0.0  K: 0.282  M: 34.27  -  (2.0 / 2.0) yrs observedd\n"
     ]
    }
   ],
   "source": [
    "bus_1 = lifesim.Bus()\n",
    "bus_1.build_from_config(filename='/home/ipa/quanz/user_accounts/fdannert/noise_paper_23/70_results/S01_Lay/'\n",
    "                        'S01_base_SAG13_April23.yaml')\n",
    "\n",
    "bus_1.data.import_catalog(input_path='/home/ipa/quanz/user_accounts/fdannert/noise_paper_23/70_results/S01_Lay/'\n",
    "                                   'S01_base_SAG13_April23_catalog.hdf5',\n",
    "                        noise_catalog=True)\n",
    "\n",
    "bus_1.data.options.set_manual(instrumental_opt=True)\n",
    "opt_1 = lifesim.Optimizer(name='opt_1')\n",
    "bus_1.add_module(opt_1)\n",
    "ahgs_1 = lifesim.AhgsModule(name='ahgs_1')\n",
    "bus_1.add_module(ahgs_1)\n",
    "\n",
    "bus_1.connect(('opt_1', 'ahgs_1'))\n",
    "opt_1.ahgs()"
   ]
  },
  {
   "cell_type": "markdown",
   "id": "6662623c",
   "metadata": {},
   "source": [
    "### Create the star catalog"
   ]
  },
  {
   "cell_type": "code",
   "execution_count": 4,
   "id": "cd92acdc",
   "metadata": {},
   "outputs": [
    {
     "data": {
      "text/plain": [
       "1106"
      ]
     },
     "execution_count": 4,
     "metadata": {},
     "output_type": "execute_result"
    }
   ],
   "source": [
    "np.sum(bus_0.data.catalog.detected[bus_0.data.catalog.nstar == 5])"
   ]
  },
  {
   "cell_type": "code",
   "execution_count": 5,
   "id": "8d214c52",
   "metadata": {},
   "outputs": [
    {
     "data": {
      "text/plain": [
       "1403"
      ]
     },
     "execution_count": 5,
     "metadata": {},
     "output_type": "execute_result"
    }
   ],
   "source": [
    "bus_0.data.catalog.detected[bus_0.data.catalog.nstar == 5].shape[0]"
   ]
  },
  {
   "cell_type": "code",
   "execution_count": 6,
   "id": "37791437",
   "metadata": {
    "scrolled": false
   },
   "outputs": [
    {
     "name": "stderr",
     "output_type": "stream",
     "text": [
      "100%|████████████████████████████████████████████████████████████████████████████████████████████| 535/535 [00:01<00:00, 401.10it/s]\n"
     ]
    }
   ],
   "source": [
    "star_catalog = {}\n",
    "n_universe = np.unique(bus_0.data.catalog.nuniverse).shape[0]\n",
    "\n",
    "for sn in tqdm(np.unique(bus_0.data.catalog.nstar)):\n",
    "    star_ex = bus_0.data.catalog[bus_0.data.catalog.nstar == sn]\n",
    "    star_ex_inst = bus_1.data.catalog[bus_1.data.catalog.nstar == sn]\n",
    "    star = star_ex.iloc[0]\n",
    "    \n",
    "    star_catalog[star.name_s] = {'radius_s': star.radius_s,\n",
    "                                 'mass_s' : star.mass_s, \n",
    "                                 'temp_s': star.temp_s, \n",
    "                                 'distance_s': star.distance_s,\n",
    "                                 'ra': star.ra, \n",
    "                                 'dec': star.dec,\n",
    "                                 'stype': star.stype,\n",
    "                                 'l_sun': star.l_sun,\n",
    "                                }\n",
    "    \n",
    "    star_catalog[star.name_s]['no_detections_base'] = np.sum(star_ex.detected)/n_universe\n",
    "    star_catalog[star.name_s]['no_detections_inst'] = np.sum(star_ex_inst.detected)/n_universe\n",
    "    \n",
    "    star_catalog[star.name_s]['completeness_base'] = np.sum(star_ex.detected)/star_ex.detected.shape[0]\n",
    "    star_catalog[star.name_s]['completeness_inst'] = np.sum(star_ex_inst.detected)/star_ex_inst.detected.shape[0]\n",
    "    \n",
    "    #detections = []\n",
    "    #completeness = []\n",
    "    #for nu in star_ex.nuniverse:\n",
    "    #    detections.append(np.sum(star_ex.detected[star_ex.nuniverse == nu]))\n",
    "    #    completeness.append(np.sum(star_ex.detected[star_ex.nuniverse == nu])\n",
    "    #                       / star_ex.detected[star_ex.nuniverse == nu].shape[0])\n",
    "    #detections = np.array(detections)\n",
    "    #completeness = np.array(completeness)\n",
    "    \n",
    "    '''\n",
    "    fig, ax = plt.subplots(ncols=2)\n",
    "    ax[0].hist(detections)\n",
    "    ax[0].set_title('detections')\n",
    "    ax[1].hist(completeness)\n",
    "    ax[1].set_title('completeness')\n",
    "    plt.show()\n",
    "    '''\n",
    "    \n",
    "    #star_catalog[star.name_s]['no_detections_base_unc'] = np.std(detections)\n",
    "    #star_catalog[star.name_s]['completeness_base_unc'] = np.std(completeness)\n",
    "    \n",
    "star_catalog = pd.DataFrame(star_catalog).T"
   ]
  },
  {
   "cell_type": "code",
   "execution_count": 7,
   "id": "36c70b97",
   "metadata": {},
   "outputs": [],
   "source": [
    "star_catalog['d_completeness'] = - star_catalog.completeness_base + star_catalog.completeness_inst"
   ]
  },
  {
   "cell_type": "code",
   "execution_count": 8,
   "id": "75b1235e",
   "metadata": {},
   "outputs": [],
   "source": [
    "def shiftedColorMap(cmap, start=0, midpoint=0.5, stop=1.0, name='shiftedcmap'):\n",
    "    '''\n",
    "    Function to offset the \"center\" of a colormap. Useful for\n",
    "    data with a negative min and positive max and you want the\n",
    "    middle of the colormap's dynamic range to be at zero.\n",
    "\n",
    "    Input\n",
    "    -----\n",
    "      cmap : The matplotlib colormap to be altered\n",
    "      start : Offset from lowest point in the colormap's range.\n",
    "          Defaults to 0.0 (no lower offset). Should be between\n",
    "          0.0 and `midpoint`.\n",
    "      midpoint : The new center of the colormap. Defaults to \n",
    "          0.5 (no shift). Should be between 0.0 and 1.0. In\n",
    "          general, this should be  1 - vmax / (vmax + abs(vmin))\n",
    "          For example if your data range from -15.0 to +5.0 and\n",
    "          you want the center of the colormap at 0.0, `midpoint`\n",
    "          should be set to  1 - 5/(5 + 15)) or 0.75\n",
    "      stop : Offset from highest point in the colormap's range.\n",
    "          Defaults to 1.0 (no upper offset). Should be between\n",
    "          `midpoint` and 1.0.\n",
    "    '''\n",
    "    cdict = {\n",
    "        'red': [],\n",
    "        'green': [],\n",
    "        'blue': [],\n",
    "        'alpha': []\n",
    "    }\n",
    "\n",
    "    # regular index to compute the colors\n",
    "    reg_index = np.linspace(start, stop, 257)\n",
    "\n",
    "    # shifted index to match the data\n",
    "    shift_index = np.hstack([\n",
    "        np.linspace(0.0, midpoint, 128, endpoint=False), \n",
    "        np.linspace(midpoint, 1.0, 129, endpoint=True)\n",
    "    ])\n",
    "\n",
    "    for ri, si in zip(reg_index, shift_index):\n",
    "        r, g, b, a = cmap(ri)\n",
    "\n",
    "        cdict['red'].append((si, r, r))\n",
    "        cdict['green'].append((si, g, g))\n",
    "        cdict['blue'].append((si, b, b))\n",
    "        cdict['alpha'].append((si, a, a))\n",
    "\n",
    "    newcmap = matplotlib.colors.LinearSegmentedColormap(name, cdict)\n",
    "    plt.register_cmap(cmap=newcmap)\n",
    "\n",
    "    return newcmap"
   ]
  },
  {
   "cell_type": "code",
   "execution_count": 9,
   "id": "bc2f1fe4",
   "metadata": {},
   "outputs": [
    {
     "name": "stderr",
     "output_type": "stream",
     "text": [
      "/tmp/ipykernel_1288827/836158580.py:48: MatplotlibDeprecationWarning: The register_cmap function was deprecated in Matplotlib 3.7 and will be removed two minor releases later. Use ``matplotlib.colormaps.register(name)`` instead.\n",
      "  plt.register_cmap(cmap=newcmap)\n"
     ]
    }
   ],
   "source": [
    "customPalette = sns.diverging_palette(42, 225, l=75, as_cmap=True, center='dark', sep=1)\n",
    "#141\n",
    "\n",
    "customPalette = shiftedColorMap(customPalette, midpoint=0.8, name='shifted10')"
   ]
  },
  {
   "cell_type": "code",
   "execution_count": 10,
   "id": "d5434bdb",
   "metadata": {},
   "outputs": [
    {
     "ename": "AttributeError",
     "evalue": "'DataFrame' object has no attribute 'not_observed'",
     "output_type": "error",
     "traceback": [
      "\u001b[0;31m---------------------------------------------------------------------------\u001b[0m",
      "\u001b[0;31mAttributeError\u001b[0m                            Traceback (most recent call last)",
      "\u001b[0;32m/tmp/ipykernel_1288827/2570764204.py\u001b[0m in \u001b[0;36m?\u001b[0;34m()\u001b[0m\n\u001b[1;32m      1\u001b[0m mask = np.logical_and.reduce((star_catalog.d_completeness != 0,\n\u001b[0;32m----> 2\u001b[0;31m                              \u001b[0mnp\u001b[0m\u001b[0;34m.\u001b[0m\u001b[0minvert\u001b[0m\u001b[0;34m(\u001b[0m\u001b[0mstar_catalog\u001b[0m\u001b[0;34m.\u001b[0m\u001b[0mnot_observed\u001b[0m\u001b[0;34m)\u001b[0m\u001b[0;34m,\u001b[0m\u001b[0;34m\u001b[0m\u001b[0;34m\u001b[0m\u001b[0m\n\u001b[0m\u001b[1;32m      3\u001b[0m                              np.invert(star_catalog.new_observed)))\n",
      "\u001b[0;32m/home/ipa/quanz/user_accounts/fdannert/noise_paper_23/venv_noise_paper/lib/python3.10/site-packages/pandas/core/generic.py\u001b[0m in \u001b[0;36m?\u001b[0;34m(self, name)\u001b[0m\n\u001b[1;32m   5898\u001b[0m             \u001b[0;32mand\u001b[0m \u001b[0mname\u001b[0m \u001b[0;32mnot\u001b[0m \u001b[0;32min\u001b[0m \u001b[0mself\u001b[0m\u001b[0;34m.\u001b[0m\u001b[0m_accessors\u001b[0m\u001b[0;34m\u001b[0m\u001b[0;34m\u001b[0m\u001b[0m\n\u001b[1;32m   5899\u001b[0m             \u001b[0;32mand\u001b[0m \u001b[0mself\u001b[0m\u001b[0;34m.\u001b[0m\u001b[0m_info_axis\u001b[0m\u001b[0;34m.\u001b[0m\u001b[0m_can_hold_identifiers_and_holds_name\u001b[0m\u001b[0;34m(\u001b[0m\u001b[0mname\u001b[0m\u001b[0;34m)\u001b[0m\u001b[0;34m\u001b[0m\u001b[0;34m\u001b[0m\u001b[0m\n\u001b[1;32m   5900\u001b[0m         ):\n\u001b[1;32m   5901\u001b[0m             \u001b[0;32mreturn\u001b[0m \u001b[0mself\u001b[0m\u001b[0;34m[\u001b[0m\u001b[0mname\u001b[0m\u001b[0;34m]\u001b[0m\u001b[0;34m\u001b[0m\u001b[0;34m\u001b[0m\u001b[0m\n\u001b[0;32m-> 5902\u001b[0;31m         \u001b[0;32mreturn\u001b[0m \u001b[0mobject\u001b[0m\u001b[0;34m.\u001b[0m\u001b[0m__getattribute__\u001b[0m\u001b[0;34m(\u001b[0m\u001b[0mself\u001b[0m\u001b[0;34m,\u001b[0m \u001b[0mname\u001b[0m\u001b[0;34m)\u001b[0m\u001b[0;34m\u001b[0m\u001b[0;34m\u001b[0m\u001b[0m\n\u001b[0m",
      "\u001b[0;31mAttributeError\u001b[0m: 'DataFrame' object has no attribute 'not_observed'"
     ]
    }
   ],
   "source": [
    "mask = np.logical_and.reduce((star_catalog.d_completeness != 0,\n",
    "                             np.invert(star_catalog.not_observed),\n",
    "                             np.invert(star_catalog.new_observed)))\n"
   ]
  },
  {
   "cell_type": "code",
   "execution_count": null,
   "id": "be563c24",
   "metadata": {},
   "outputs": [],
   "source": [
    "color = ['#ECA86E', '#6BC2E4']\n",
    "\n",
    "small_size = 7\n",
    "medium_size = 9\n",
    "large_size = 10\n",
    "\n",
    "plt.rc('font', size=small_size)          # controls default text sizes\n",
    "plt.rc('axes', titlesize=small_size)     # fontsize of the axes title\n",
    "plt.rc('axes', labelsize=medium_size)    # fontsize of the x and y labels\n",
    "plt.rc('xtick', labelsize=small_size)    # fontsize of the tick labels\n",
    "plt.rc('ytick', labelsize=small_size)    # fontsize of the tick labels\n",
    "plt.rc('legend', fontsize=small_size)    # legend fontsize\n",
    "plt.rc('figure', titlesize=medium_size)  # fontsize of the figure title\n",
    "\n",
    "fig, ax = plt.subplots(figsize=(3.5, 3.5), dpi=150)\n",
    "# sns.despine(f, left=True, bottom=True)\n",
    "# clarity_ranking = [\"I1\", \"SI2\", \"SI1\", \"VS2\", \"VS1\", \"VVS2\", \"VVS1\", \"IF\"]\n",
    "\n",
    "norm = plt.Normalize(star_catalog[mask].d_completeness.min(), \n",
    "                     star_catalog[mask].d_completeness.max())\n",
    "sm = plt.cm.ScalarMappable(cmap=customPalette, norm=norm)\n",
    "sm.set_array([])\n",
    "\n",
    "plot_x = 'distance_s'\n",
    "plot_y = 'l_sun'\n",
    "plot_hue = 'd_completeness'\n",
    "\n",
    "sns.scatterplot(x=plot_x, y=plot_y,\n",
    "                hue=plot_hue,\n",
    "                palette=customPalette,\n",
    "                hue_norm=norm,\n",
    "                #hue_order=clarity_ranking,\n",
    "                sizes=(1, 8), linewidth=0,\n",
    "                data=star_catalog[mask], \n",
    "                ax=ax,\n",
    "                s=15)\n",
    "\n",
    "ax.scatter(star_catalog[star_catalog.not_observed][plot_x], \n",
    "               star_catalog[star_catalog.not_observed][plot_y], \n",
    "               c=color[0], marker='v', s=15)\n",
    "ax.scatter(star_catalog[star_catalog.new_observed][plot_x], \n",
    "               star_catalog[star_catalog.new_observed][plot_y], \n",
    "               c=color[1], marker='v', s=15)\n",
    "\n",
    "# Remove the legend and add a colorbar\n",
    "ax.get_legend().remove()\n",
    "ax.figure.colorbar(sm, label='$\\Delta$ Completeness')\n",
    "\n",
    "legend_elements = [Line2D([0], [0], marker='v', color=color[0], label='fundamental noise only',\n",
    "                          markerfacecolor=color[0], markersize=2, lw=0),\n",
    "                   Line2D([0], [0], marker='v', color=color[1], label='instrumental noise only',\n",
    "                          markerfacecolor=color[1], markersize=2, lw=0),\n",
    "                   Line2D([0], [0], marker='o', color='k', label='in both cases',\n",
    "                          markerfacecolor='k', markersize=2, lw=0),\n",
    "                  ]\n",
    "\n",
    "legend = ax.legend(handles=legend_elements, loc='upper left', title='Observed with', fontsize=small_size)\n",
    "\n",
    "legend._legend_box.align = \"left\"\n",
    "\n",
    "ax.set_yscale('log')\n",
    "ax.set_xlim((0.6, 11.4))\n",
    "ax.set_ylim((1.1e-4, 7e1))\n",
    "ax.set_xlabel('System Distance (pc)')\n",
    "ax.set_ylabel('Stellar Luminosity ($L_\\odot$)')\n",
    "\n",
    "plt.show()\n",
    "fig.savefig('/home/ipa/quanz/user_accounts/fdannert/noise_paper_23/50_code/InLIFEsim/docs/source/paper_experiments/figures/sample_comparison_lay.pdf', bbox_inches='tight')"
   ]
  },
  {
   "cell_type": "code",
   "execution_count": 155,
   "id": "85407868",
   "metadata": {},
   "outputs": [],
   "source": [
    "significant = 0.2\n",
    "\n",
    "star_catalog['not_observed'] = np.logical_and(star_catalog.completeness_base != 0,\n",
    "                                              star_catalog.completeness_inst == 0.)\n",
    "star_catalog['new_observed'] = np.logical_and(star_catalog.completeness_base == 0,\n",
    "                                              star_catalog.completeness_inst != 0.)\n",
    "star_catalog['sig_decrease'] = (star_catalog.d_completeness > significant)\n",
    "star_catalog['sig_increase'] = (star_catalog.d_completeness < -significant)\n",
    "star_catalog['same'] = np.logical_and((np.abs(star_catalog.d_completeness) < significant),\n",
    "                                     star_catalog.completeness_base != 0)"
   ]
  },
  {
   "cell_type": "code",
   "execution_count": 160,
   "id": "07957c6f",
   "metadata": {},
   "outputs": [
    {
     "data": {
      "text/plain": [
       "35"
      ]
     },
     "execution_count": 160,
     "metadata": {},
     "output_type": "execute_result"
    }
   ],
   "source": [
    "np.sum(star_catalog.sig_decrease)"
   ]
  },
  {
   "cell_type": "code",
   "execution_count": 167,
   "id": "4ebb2034",
   "metadata": {},
   "outputs": [
    {
     "data": {
      "text/plain": [
       "Text(0, 0.5, 'Stellar Luminosity ($L_\\\\odot$)')"
      ]
     },
     "execution_count": 167,
     "metadata": {},
     "output_type": "execute_result"
    },
    {
     "data": {
      "image/png": "[encoded data removed]",
      "text/plain": [
       "<Figure size 525x525 with 1 Axes>"
      ]
     },
     "metadata": {},
     "output_type": "display_data"
    }
   ],
   "source": [
    "colors = ['#d7191c','#fdae61','#ffffbf','#abd9e9','#2c7bb6']\n",
    "palette = sns.color_palette(colors)\n",
    "\n",
    "sns.set_palette(palette)\n",
    "\n",
    "small_size = 7\n",
    "medium_size = 9\n",
    "large_size = 10\n",
    "\n",
    "plt.rc('font', size=small_size)          # controls default text sizes\n",
    "plt.rc('axes', titlesize=small_size)     # fontsize of the axes title\n",
    "plt.rc('axes', labelsize=medium_size)    # fontsize of the x and y labels\n",
    "plt.rc('xtick', labelsize=small_size)    # fontsize of the tick labels\n",
    "plt.rc('ytick', labelsize=small_size)    # fontsize of the tick labels\n",
    "plt.rc('legend', fontsize=small_size)    # legend fontsize\n",
    "plt.rc('figure', titlesize=medium_size)  # fontsize of the figure title\n",
    "\n",
    "f, ax = plt.subplots(figsize=(3.5, 3.5), dpi=150)\n",
    "\n",
    "x = 'distance_s'\n",
    "y = 'l_sun'\n",
    "\n",
    "plt.scatter(star_catalog[star_catalog.new_observed][x], star_catalog[star_catalog.new_observed][y])\n",
    "plt.scatter(star_catalog[star_catalog.sig_increase][x], star_catalog[star_catalog.sig_increase][y])\n",
    "plt.scatter(star_catalog[star_catalog.same][x], star_catalog[star_catalog.same][y])\n",
    "plt.scatter(star_catalog[star_catalog.sig_decrease][x], star_catalog[star_catalog.sig_decrease][y])\n",
    "plt.scatter(star_catalog[star_catalog.not_observed][x], star_catalog[star_catalog.not_observed][y])\n",
    "\n",
    "\n",
    "\n",
    "\n",
    "\n",
    "\n",
    "\n",
    "ax.set_yscale('log')\n",
    "#ax.set_xlim((-1, 13))\n",
    "#ax.set_ylim((2e-4, 3))\n",
    "ax.set_xlabel('System Distance (pc)')\n",
    "ax.set_ylabel('Stellar Luminosity ($L_\\odot$)')"
   ]
  },
  {
   "cell_type": "code",
   "execution_count": null,
   "id": "f09d810a",
   "metadata": {},
   "outputs": [],
   "source": [
    "star_catalog"
   ]
  },
  {
   "cell_type": "markdown",
   "id": "1bb7da25",
   "metadata": {},
   "source": [
    "### With paper Jens occurence statistics"
   ]
  },
  {
   "cell_type": "code",
   "execution_count": 59,
   "id": "236c8309",
   "metadata": {},
   "outputs": [
    {
     "name": "stdout",
     "output_type": "stream",
     "text": [
      "Importing Catalog...\n",
      "Beginning Import...\n",
      "Import completed (Time: 0.13280677795410156), changing string object types...\n",
      "[Done] (Time: 0.017107486724853516)\n",
      "Importing Noise Catalog...\n",
      "[Done]\n",
      "Number of planets detected by stellar type:\n",
      "A: 0.0  F: 5.196  G: 4.938  K: 10.226  M: 0.0  -  (2.0 / 2.0) yrs observed\n"
     ]
    }
   ],
   "source": [
    "bus_2 = lifesim.Bus()\n",
    "bus_2.build_from_config(filename='/home/ipa/quanz/user_accounts/fdannert/noise_paper_23/70_results/S01_Lay/'\n",
    "                        'S01_base_bryson_hab2high.yaml')\n",
    "\n",
    "bus_2.data.import_catalog(input_path='/home/ipa/quanz/user_accounts/fdannert/noise_paper_23/70_results/S01_Lay/'\n",
    "                                   'S01_base_bryson_hab2high_catalog.hdf5',\n",
    "                        noise_catalog=True)\n",
    "\n",
    "ana = lifesim.SampleAnalysisModule(name='ana')\n",
    "bus_2.add_module(ana)\n",
    "\n",
    "ana.get_fundamental_snr()\n",
    "\n",
    "opt_2 = lifesim.Optimizer(name='opt_2')\n",
    "bus_2.add_module(opt_2)\n",
    "ahgs_2 = lifesim.AhgsModule(name='ahgs_2')\n",
    "bus_2.add_module(ahgs_2)\n",
    "\n",
    "bus_2.connect(('opt_2', 'ahgs_2'))\n",
    "opt_2.ahgs()"
   ]
  },
  {
   "cell_type": "code",
   "execution_count": 62,
   "id": "8a2756ac",
   "metadata": {},
   "outputs": [
    {
     "name": "stderr",
     "output_type": "stream",
     "text": [
      "100%|█████████████████████████████████████████████████████████████████████████████████████| 358/358 [02:05<00:00,  2.86it/s]\n"
     ]
    },
    {
     "ename": "NameError",
     "evalue": "name 'pf' is not defined",
     "output_type": "error",
     "traceback": [
      "\u001b[0;31m---------------------------------------------------------------------------\u001b[0m",
      "\u001b[0;31mNameError\u001b[0m                                 Traceback (most recent call last)",
      "Cell \u001b[0;32mIn[62], line 46\u001b[0m\n\u001b[1;32m     43\u001b[0m     star_catalog_fgk[star\u001b[38;5;241m.\u001b[39mname_s][\u001b[38;5;124m'\u001b[39m\u001b[38;5;124mno_detections_base_unc\u001b[39m\u001b[38;5;124m'\u001b[39m] \u001b[38;5;241m=\u001b[39m np\u001b[38;5;241m.\u001b[39mstd(detections)\n\u001b[1;32m     44\u001b[0m     star_catalog_fgk[star\u001b[38;5;241m.\u001b[39mname_s][\u001b[38;5;124m'\u001b[39m\u001b[38;5;124mcompleteness_base_unc\u001b[39m\u001b[38;5;124m'\u001b[39m] \u001b[38;5;241m=\u001b[39m np\u001b[38;5;241m.\u001b[39mstd(completeness)\n\u001b[0;32m---> 46\u001b[0m star_catalog_fgk \u001b[38;5;241m=\u001b[39m \u001b[43mpf\u001b[49m\u001b[38;5;241m.\u001b[39mDataFrame(star_catalog_fgk)\u001b[38;5;241m.\u001b[39mT\n",
      "\u001b[0;31mNameError\u001b[0m: name 'pf' is not defined"
     ]
    }
   ],
   "source": [
    "star_catalog_fgk = {}\n",
    "n_universe = np.unique(bus_2.data.catalog.nuniverse).shape[0]\n",
    "\n",
    "for sn in tqdm(np.unique(bus_2.data.catalog.nstar)):\n",
    "    star_ex = bus_2.data.catalog[bus_2.data.catalog.nstar == sn]\n",
    "    star = star_ex.iloc[0]\n",
    "    \n",
    "    star_catalog_fgk[star.name_s] = {'radius_s': star.radius_s,\n",
    "                                 'mass_s' : star.mass_s, \n",
    "                                 'temp_s': star.temp_s, \n",
    "                                 'distance_s': star.distance_s,\n",
    "                                 'ra': star.ra, \n",
    "                                 'dec': star.dec,\n",
    "                                 'stype': star.stype,\n",
    "                                 'l_sun': star.l_sun,\n",
    "                                }\n",
    "    star_catalog_fgk[star.name_s]['no_detections_base'] = np.sum(\n",
    "        bus_2.data.catalog.detected[bus_2.data.catalog.nstar == sn]\n",
    "    )/n_universe\n",
    "    \n",
    "    star_catalog_fgk[star.name_s]['completeness_base'] = np.sum(\n",
    "        bus_2.data.catalog.detected[bus_2.data.catalog.nstar == sn]\n",
    "    )/bus_2.data.catalog.detected[bus_2.data.catalog.nstar == sn].shape[0]\n",
    "    \n",
    "    detections = []\n",
    "    completeness = []\n",
    "    for nu in star_ex.nuniverse:\n",
    "        detections.append(np.sum(star_ex.detected[star_ex.nuniverse == nu]))\n",
    "        completeness.append(np.sum(star_ex.detected[star_ex.nuniverse == nu])\n",
    "                           / star_ex.detected[star_ex.nuniverse == nu].shape[0])\n",
    "    detections = np.array(detections)\n",
    "    completeness = np.array(completeness)\n",
    "    \n",
    "    '''\n",
    "    fig, ax = plt.subplots(ncols=2)\n",
    "    ax[0].hist(detections)\n",
    "    ax[0].set_title('detections')\n",
    "    ax[1].hist(completeness)\n",
    "    ax[1].set_title('completeness')\n",
    "    plt.show()\n",
    "    '''\n",
    "    \n",
    "    star_catalog_fgk[star.name_s]['no_detections_base_unc'] = np.std(detections)\n",
    "    star_catalog_fgk[star.name_s]['completeness_base_unc'] = np.std(completeness)\n",
    "    "
   ]
  },
  {
   "cell_type": "code",
   "execution_count": 63,
   "id": "cbb58da7",
   "metadata": {},
   "outputs": [],
   "source": [
    "star_catalog_fgk = pd.DataFrame(star_catalog_fgk).T"
   ]
  },
  {
   "cell_type": "code",
   "execution_count": 86,
   "id": "49d3605c",
   "metadata": {},
   "outputs": [
    {
     "data": {
      "text/plain": [
       "(-1.0, 21.0)"
      ]
     },
     "execution_count": 86,
     "metadata": {},
     "output_type": "execute_result"
    },
    {
     "data": {
      "image/png": "[encoded data removed]",
      "text/plain": [
       "<Figure size 650x650 with 1 Axes>"
      ]
     },
     "metadata": {},
     "output_type": "display_data"
    }
   ],
   "source": [
    "f, ax = plt.subplots(figsize=(6.5, 6.5))\n",
    "# sns.despine(f, left=True, bottom=True)\n",
    "# clarity_ranking = [\"I1\", \"SI2\", \"SI1\", \"VS2\", \"VS1\", \"VVS2\", \"VVS1\", \"IF\"]\n",
    "sns.scatterplot(x=\"distance_s\", y=\"l_sun\",\n",
    "                hue=\"completeness_base\",\n",
    "                palette=\"ch:r=-.2,d=.3_r\",\n",
    "                #hue_order=clarity_ranking,\n",
    "                sizes=(1, 8), linewidth=0,\n",
    "                data=star_catalog_fgk[star_catalog_fgk.completeness_base != 0.], ax=ax)\n",
    "ax.set_yscale('log')\n",
    "ax.set_xlim((-1, 21))"
   ]
  },
  {
   "cell_type": "markdown",
   "id": "2b5ccd12",
   "metadata": {},
   "source": [
    "## For Saschas Pasadena Talk"
   ]
  },
  {
   "cell_type": "code",
   "execution_count": null,
   "id": "53a90bc8",
   "metadata": {},
   "outputs": [],
   "source": [
    "color = ['#ECA86E', '#6BC2E4']\n",
    "\n",
    "small_size = 7\n",
    "medium_size = 9\n",
    "large_size = 10\n",
    "\n",
    "plt.rc('font', size=small_size)          # controls default text sizes\n",
    "plt.rc('axes', titlesize=small_size)     # fontsize of the axes title\n",
    "plt.rc('axes', labelsize=medium_size)    # fontsize of the x and y labels\n",
    "plt.rc('xtick', labelsize=small_size)    # fontsize of the tick labels\n",
    "plt.rc('ytick', labelsize=small_size)    # fontsize of the tick labels\n",
    "plt.rc('legend', fontsize=small_size)    # legend fontsize\n",
    "plt.rc('figure', titlesize=medium_size)  # fontsize of the figure title\n",
    "\n",
    "fig, ax = plt.subplots(figsize=(3.5, 3.5), dpi=150)\n",
    "# sns.despine(f, left=True, bottom=True)\n",
    "# clarity_ranking = [\"I1\", \"SI2\", \"SI1\", \"VS2\", \"VS1\", \"VVS2\", \"VVS1\", \"IF\"]\n",
    "\n",
    "norm = plt.Normalize(star_catalog[mask].d_completeness.min(), \n",
    "                     star_catalog[mask].d_completeness.max())\n",
    "sm = plt.cm.ScalarMappable(cmap=customPalette, norm=norm)\n",
    "sm.set_array([])\n",
    "\n",
    "plot_x = 'distance_s'\n",
    "plot_y = 'l_sun'\n",
    "plot_hue = 'd_completeness'\n",
    "\n",
    "sns.scatterplot(x=plot_x, y=plot_y,\n",
    "                hue=plot_hue,\n",
    "                palette=customPalette,\n",
    "                hue_norm=norm,\n",
    "                #hue_order=clarity_ranking,\n",
    "                sizes=(1, 8), linewidth=0,\n",
    "                data=star_catalog[mask], \n",
    "                ax=ax,\n",
    "                s=15)\n",
    "\n",
    "ax.scatter(star_catalog[star_catalog.not_observed][plot_x], \n",
    "               star_catalog[star_catalog.not_observed][plot_y], \n",
    "               c=color[0], marker='v', s=15)\n",
    "ax.scatter(star_catalog[star_catalog.new_observed][plot_x], \n",
    "               star_catalog[star_catalog.new_observed][plot_y], \n",
    "               c=color[1], marker='v', s=15)\n",
    "\n",
    "# Remove the legend and add a colorbar\n",
    "ax.get_legend().remove()\n",
    "ax.figure.colorbar(sm, label='$\\Delta$ Completeness')\n",
    "\n",
    "legend_elements = [Line2D([0], [0], marker='v', color=color[0], label='fundamental noise only',\n",
    "                          markerfacecolor=color[0], markersize=2, lw=0),\n",
    "                   Line2D([0], [0], marker='v', color=color[1], label='instrumental noise only',\n",
    "                          markerfacecolor=color[1], markersize=2, lw=0),\n",
    "                   Line2D([0], [0], marker='o', color='k', label='in both cases',\n",
    "                          markerfacecolor='k', markersize=2, lw=0),\n",
    "                  ]\n",
    "\n",
    "legend = ax.legend(handles=legend_elements, loc='upper left', title='Observed with', fontsize=small_size)\n",
    "\n",
    "legend._legend_box.align = \"left\"\n",
    "\n",
    "ax.set_yscale('log')\n",
    "ax.set_xlim((0.6, 11.4))\n",
    "ax.set_ylim((1.1e-4, 7e1))\n",
    "ax.set_xlabel('System Distance (pc)')\n",
    "ax.set_ylabel('Stellar Luminosity ($L_\\odot$)')\n",
    "\n",
    "plt.show()"
   ]
  }
 ],
 "metadata": {
  "kernelspec": {
   "display_name": "Python 3 (ipykernel)",
   "language": "python",
   "name": "python3"
  },
  "language_info": {
   "codemirror_mode": {
    "name": "ipython",
    "version": 3
   },
   "file_extension": ".py",
   "mimetype": "text/x-python",
   "name": "python",
   "nbconvert_exporter": "python",
   "pygments_lexer": "ipython3",
   "version": "3.10.6"
  }
 },
 "nbformat": 4,
 "nbformat_minor": 5
}
