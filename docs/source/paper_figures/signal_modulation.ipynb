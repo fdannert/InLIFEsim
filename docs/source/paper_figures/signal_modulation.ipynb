{
 "cells": [
  {
   "cell_type": "code",
   "id": "initial_id",
   "metadata": {
    "collapsed": true,
    "ExecuteTime": {
     "end_time": "2025-02-28T16:00:26.490642Z",
     "start_time": "2025-02-28T16:00:22.175542Z"
    }
   },
   "source": [
    "%load_ext autoreload\n",
    "%autoreload 2\n",
    "\n",
    "import os\n",
    "from copy import deepcopy\n",
    "\n",
    "import matplotlib.pyplot as plt\n",
    "import numpy as np\n",
    "import pandas as pd\n",
    "from astropy import units as u\n",
    "from scipy.fft import fftshift\n",
    "from cmocean.cm import thermal\n",
    "from matplotlib.patches import Rectangle\n",
    "from matplotlib.legend_handler import HandlerBase\n",
    "\n",
    "import lifesim\n",
    "from inlifesim.spectra import create_pink_psd, rms_frequency_adjust\n",
    "from inlifesim.util import temp2freq_fft\n",
    "from lifesim.util.radiation import black_body\n",
    "import inlifesim as ils"
   ],
   "outputs": [
    {
     "name": "stderr",
     "output_type": "stream",
     "text": [
      "/var/folders/rs/chvp5qfj3j76n4gdp708g4vc0000gn/T/ipykernel_6605/3296473734.py:9: DeprecationWarning: \n",
      "Pyarrow will become a required dependency of pandas in the next major release of pandas (pandas 3.0),\n",
      "(to allow more performant data types, such as the Arrow string type, and better interoperability with other libraries)\n",
      "but was not found to be installed on your system.\n",
      "If this would cause problems for you,\n",
      "please provide us feedback at https://github.com/pandas-dev/pandas/issues/54466\n",
      "        \n",
      "  import pandas as pd\n"
     ]
    }
   ],
   "execution_count": 1
  },
  {
   "metadata": {
    "ExecuteTime": {
     "end_time": "2025-02-28T16:00:28.141605Z",
     "start_time": "2025-02-28T16:00:27.153357Z"
    }
   },
   "cell_type": "code",
   "source": [
    "path_spectrum = '/Users/fdannert/Documents/projects/InLIFEsim/working/nice_requirements/input_data/Earth_PRTunits_10pc.txt'\n",
    "path_bs = '/Users/fdannert/Documents/projects/InLIFEsim/working/paper/final_result_table/lookup_table_1e10_Nov24.pkl'"
   ],
   "id": "8d0229912cee6564",
   "outputs": [],
   "execution_count": 2
  },
  {
   "metadata": {
    "ExecuteTime": {
     "end_time": "2025-02-28T16:00:39.027888Z",
     "start_time": "2025-02-28T16:00:38.980397Z"
    }
   },
   "cell_type": "code",
   "source": [
    "earth_twin = {'distance_s': 10,\n",
    "              'temp_s': 5778.,\n",
    "              'radius_s': 1.,\n",
    "              'lat_s': 0.78,\n",
    "              'l_sun': 1.,\n",
    "              'z': 1.,\n",
    "              'temp_p': 254.,\n",
    "              'radius_p': 1.,\n",
    "              'sep_p': 1.,}\n",
    "\n",
    "dbw = {'ap_diameter': 3.,\n",
    "       'spec_res': 50.,\n",
    "       't_int': 10 * 24 * 60 * 60,  #  10 * 24 * 60 * 60\n",
    "       'throughput': 0.035,\n",
    "       't_exp': 60 * 10,\n",
    "       'n_rot': 9,\n",
    "       'wl_bin': 10e-6,  # 10e-6\n",
    "       'bl': 14.5,\n",
    "       'ratio': 6,\n",
    "       'wl_bin_width': 0.3e-6,  # 0.3e-6\n",
    "       'rms_mode': 'wavelength',\n",
    "       'hyperrot_noise': 'zero',\n",
    "       'd_phi_rms': 0.005,  # 0.005\n",
    "       'd_a_rms': 0.005,\n",
    "       'd_x_rms': 0.,\n",
    "       'd_y_rms': 0.,\n",
    "       'd_pol_rms': 0.005,\n",
    "       'd_a_co': 10e3,\n",
    "       'd_phi_co': 10e3,\n",
    "       'd_pol_co': 10e3,\n",
    "       'd_x_co': 0.64e-3,\n",
    "       'd_y_co': 0.64e-3}"
   ],
   "id": "39e79f367b74672",
   "outputs": [],
   "execution_count": 3
  },
  {
   "metadata": {
    "ExecuteTime": {
     "end_time": "2025-02-28T15:53:43.614134Z",
     "start_time": "2025-02-28T15:53:43.557756Z"
    }
   },
   "cell_type": "code",
   "source": [
    "data = pd.read_csv(\n",
    "    path_spectrum,\n",
    "    header=None, sep='\\s+')\n",
    "\n",
    "lam_PRT = data[0].values * u.micron\n",
    "f_PRT = data[1].values * u.erg / u.cm ** 2 / u.s / u.Hz\n",
    "f_lifesim = f_PRT.to(u.photon / u.m ** 2 / u.s / u.micron, \\\n",
    "                     equivalencies=u.spectral_density(lam_PRT))\n",
    "\n",
    "f_lifesim = f_lifesim.to(u.photon / u.s / u.meter ** 3)\n",
    "lam_lifesim = lam_PRT.to(u.meter)\n",
    "\n",
    "# scale planet flux to distance\n",
    "f_lifesim *= (10 / earth_twin['distance_s']) ** 2\n",
    "\n",
    "flux_planet_spectrum = [lam_lifesim, f_lifesim]"
   ],
   "id": "25172075cbe0371c",
   "outputs": [],
   "execution_count": 4
  },
  {
   "metadata": {
    "ExecuteTime": {
     "end_time": "2025-02-28T15:53:44.111444Z",
     "start_time": "2025-02-28T15:53:44.046466Z"
    }
   },
   "cell_type": "code",
   "source": [
    "# calculate bin widths from bin positions lam_lifesim\n",
    "bin_widths = np.append(np.diff(lam_lifesim.value), 0)\n",
    "\n",
    "flux_planet_spectrum_bb = black_body(mode='planet',\n",
    "                                     # bins=lam_lifesim.value,\n",
    "                                     # width=bin_widths,\n",
    "                                     bins=np.array((dbw['wl_bin'], )),\n",
    "                                     width=np.array((dbw['wl_bin_width'], )),\n",
    "                                     temp=254,\n",
    "                                     radius=earth_twin['radius_p'],\n",
    "                                     distance=earth_twin['distance_s'],)\n",
    "\n",
    "# flux_planet_spectrum_bb /= dbw['wl_bin_width']\n",
    "flux_planet_spectrum = flux_planet_spectrum_bb"
   ],
   "id": "bf26e31006d83ff9",
   "outputs": [],
   "execution_count": 5
  },
  {
   "metadata": {
    "ExecuteTime": {
     "end_time": "2025-02-28T15:53:44.466311Z",
     "start_time": "2025-02-28T15:53:44.196519Z"
    }
   },
   "cell_type": "code",
   "source": [
    "col_pos = np.array((\n",
    "                (-dbw['bl'] / 2,\n",
    "                 -dbw['bl'] * dbw['ratio'] / 2),\n",
    "                (-dbw['bl'] / 2,\n",
    "                 dbw['bl'] * dbw['ratio'] / 2),\n",
    "                (dbw['bl'] / 2,\n",
    "                 -dbw['bl'] * dbw['ratio'] / 2),\n",
    "                (dbw['bl'] / 2,\n",
    "                 dbw['bl'] * dbw['ratio'] / 2)\n",
    "            ))\n",
    "\n",
    "instrument = ils.Instrument(wl_bins=np.array((dbw['wl_bin'], )),\n",
    "                            wl_bin_widths=np.array((dbw['wl_bin_width'], )),\n",
    "                            image_size=512,\n",
    "                            diameter_ap=dbw['ap_diameter'],\n",
    "                            flux_division=np.array((0.25, 0.25, 0.25, 0.25)),\n",
    "                            throughput=dbw['throughput'],\n",
    "                            dist_star=earth_twin['distance_s'],\n",
    "                            radius_star=earth_twin['radius_s'],\n",
    "                            temp_star=earth_twin['temp_s'],\n",
    "                            lat_star=earth_twin['lat_s'],\n",
    "                            l_sun=earth_twin['l_sun'],\n",
    "                            z=earth_twin['z'],\n",
    "                            temp_planet=earth_twin['temp_p'],\n",
    "                            radius_planet=earth_twin['radius_p'],\n",
    "                            separation_planet=earth_twin['sep_p'],\n",
    "                            col_pos=col_pos,\n",
    "                            phase_response=np.array((0, np.pi / 2, np.pi, 3 * np.pi / 2)),\n",
    "                            phase_response_chop=-np.array((0, np.pi / 2, np.pi, 3 * np.pi / 2)),\n",
    "                            n_rot=dbw['n_rot'],\n",
    "                            t_total=dbw['t_int'],\n",
    "                            t_exp=dbw['t_exp'],\n",
    "                            n_cpu=1,\n",
    "                            rms_mode=dbw['rms_mode'],\n",
    "                            hyperrot_noise=dbw['hyperrot_noise'],\n",
    "                            n_sampling_max=int(1e7),\n",
    "                            d_a_rms=dbw['d_a_rms'],\n",
    "                            d_phi_rms=dbw['d_phi_rms'],\n",
    "                            d_pol_rms=dbw['d_pol_rms'],\n",
    "                            d_x_rms=dbw['d_x_rms'],\n",
    "                            d_y_rms=dbw['d_y_rms'],\n",
    "                            d_a_co=dbw['d_a_co'],\n",
    "                            d_phi_co=dbw['d_phi_co'],\n",
    "                            d_pol_co=dbw['d_pol_co'],\n",
    "                            d_x_co=dbw['d_x_co'],\n",
    "                            d_y_co=dbw['d_y_co'],\n",
    "                            n_draws=None,\n",
    "                            n_draws_per_run=None,\n",
    "                            time_series_return_values='all',\n",
    "                            flux_planet=flux_planet_spectrum,\n",
    "                            simultaneous_chopping=True,\n",
    "                            verbose=True,\n",
    "                            draw_samples=False,\n",
    "                            get_single_bracewell=False,\n",
    "                            instrumental_source=None)\n",
    "instrument.run()\n",
    "\n",
    "ils_res = deepcopy(instrument.photon_rates_chop)"
   ],
   "id": "8e9c2f6f65c76cca",
   "outputs": [
    {
     "name": "stdout",
     "output_type": "stream",
     "text": [
      "Adjusted exposure time from 600 s to 596.27 s\n",
      "Will simulate 9 rotations in 10.0 days\n",
      "Total number of samples: 1449\n",
      "Number of rotation angles: 1449\n",
      "Creating astrophysical sources ... [Done]\n",
      "Calculating gradient and Hessian coefficients ... [Done]\n",
      "Generating planet signal ... [Done]\n",
      "Shape of the planet template: (1, 1449)\n",
      "Calculating fundamental noise ... [Done]\n",
      "Calculating systematics noise (chopping) ... [Done]\n"
     ]
    }
   ],
   "execution_count": 6
  },
  {
   "metadata": {},
   "cell_type": "markdown",
   "source": "# 1. Get planet signal and modulation",
   "id": "ba14549d5dd4a1bd"
  },
  {
   "metadata": {
    "ExecuteTime": {
     "end_time": "2025-02-28T08:08:14.295002Z",
     "start_time": "2025-02-28T08:08:13.752136Z"
    }
   },
   "cell_type": "code",
   "outputs": [
    {
     "name": "stdout",
     "output_type": "stream",
     "text": [
      "Adjusted exposure time from 600 s to 599.58 s\n",
      "Will simulate 1 rotations in 10.0 days\n",
      "Total number of samples: 1441\n",
      "Number of rotation angles: 1441\n",
      "Creating astrophysical sources ... [Done]\n",
      "Calculating gradient and Hessian coefficients ... [Done]\n",
      "Generating planet signal ... [Done]\n",
      "Shape of the planet template: (31, 1441)\n",
      "Calculating fundamental noise ... [Done]\n",
      "Calculating systematics noise (chopping) ... [Done]\n"
     ]
    }
   ],
   "execution_count": 6,
   "source": [
    "bus.data.options.set_noise_scenario('lay')\n",
    "\n",
    "# bus.data.options.set_manual(rms_mode='lay',\n",
    "#                             d_phi_rms=0.0,\n",
    "#                             d_a_rms=0.0,\n",
    "#                             d_x_rms=0.,\n",
    "#                             d_y_rms=0.,\n",
    "#                             d_pol_rms=0.,\n",
    "#                             d_a_co=10e3,\n",
    "#                             d_phi_co=10e3,\n",
    "#                             d_pol_co=10e3,\n",
    "#                             d_x_co=0.64e-3,\n",
    "#                             d_y_co=0.64e-3)\n",
    "\n",
    "ils_res = instrument.get_spectrum(temp_s=earth_twin['temp_s'],\n",
    "                                        radius_s=earth_twin['radius_s'],\n",
    "                                        distance_s=earth_twin['distance_s'],\n",
    "                                        lat_s=earth_twin['lat_s'],\n",
    "                                        z=earth_twin['z'],\n",
    "                                        angsep=earth_twin['angsep'],\n",
    "                                        flux_planet_spectrum=flux_planet_spectrum,\n",
    "                                        integration_time=dbw['t_int'],\n",
    "                                        exposure_time=dbw['t_exp'],\n",
    "                                        n_rot=1,\n",
    "                                        safe_mode=True,\n",
    "                                        hyperrot_noise='zero')"
   ],
   "id": "10911bf3f8847354"
  },
  {
   "metadata": {
    "ExecuteTime": {
     "end_time": "2025-02-28T15:53:48.615561Z",
     "start_time": "2025-02-28T15:53:48.573565Z"
    }
   },
   "cell_type": "code",
   "source": [
    "ref_wl = 10e-6\n",
    "i = np.argmin(np.abs(instrument.wl_bins - ref_wl))"
   ],
   "id": "1293a1878cb0f535",
   "outputs": [],
   "execution_count": 7
  },
  {
   "metadata": {
    "ExecuteTime": {
     "end_time": "2025-02-28T15:54:10.697019Z",
     "start_time": "2025-02-28T15:54:10.662775Z"
    }
   },
   "cell_type": "code",
   "source": [
    "template_ft = temp2freq_fft(time_series=instrument.planet_template_chop[i, :],\n",
    "                                          total_time=instrument.t_total)"
   ],
   "id": "cc39f60313180138",
   "outputs": [],
   "execution_count": 9
  },
  {
   "metadata": {
    "ExecuteTime": {
     "end_time": "2025-02-28T08:08:14.865399Z",
     "start_time": "2025-02-28T08:08:14.453402Z"
    }
   },
   "cell_type": "code",
   "outputs": [
    {
     "data": {
      "text/plain": [
       "<BarContainer object of 50 artists>"
      ]
     },
     "execution_count": 9,
     "metadata": {},
     "output_type": "execute_result"
    },
    {
     "data": {
      "text/plain": [
       "<Figure size 640x480 with 1 Axes>"
      ],
      "image/png": "[encoded data removed]"
     },
     "metadata": {},
     "output_type": "display_data"
    }
   ],
   "execution_count": 9,
   "source": [
    "maxn = 50\n",
    "plt.bar(np.arange(maxn), np.abs(fftshift(template_ft))[:maxn])\n"
   ],
   "id": "a028baed0b3774de"
  },
  {
   "metadata": {
    "ExecuteTime": {
     "end_time": "2025-02-28T08:08:15.171347Z",
     "start_time": "2025-02-28T08:08:14.934891Z"
    }
   },
   "cell_type": "code",
   "outputs": [
    {
     "name": "stdout",
     "output_type": "stream",
     "text": [
      "Adjusted exposure time from 600 s to 599.58 s\n",
      "Will simulate 1 rotations in 10.0 days\n",
      "Total number of samples: 1441\n",
      "Number of rotation angles: 1441\n",
      "Creating astrophysical sources ... [Done]\n",
      "Calculating gradient and Hessian coefficients ... [Done]\n",
      "Generating planet signal ... [Done]\n",
      "Shape of the planet template: (31, 1441)\n",
      "Calculating fundamental noise ... [Done]\n",
      "Calculating systematics noise (chopping) ... [Done]\n"
     ]
    }
   ],
   "execution_count": 10,
   "source": [
    "bus.data.options.set_manual(ratio=2)\n",
    "\n",
    "ils_res = instrument.get_spectrum(temp_s=earth_twin['temp_s'],\n",
    "                                        radius_s=earth_twin['radius_s'],\n",
    "                                        distance_s=earth_twin['distance_s'],\n",
    "                                        lat_s=earth_twin['lat_s'],\n",
    "                                        z=earth_twin['z'],\n",
    "                                        angsep=earth_twin['angsep'],\n",
    "                                        flux_planet_spectrum=flux_planet_spectrum,\n",
    "                                        integration_time=dbw['t_int'],\n",
    "                                        exposure_time=dbw['t_exp'],\n",
    "                                        n_rot=1,\n",
    "                                        safe_mode=True,\n",
    "                                        hyperrot_noise='zero')"
   ],
   "id": "dd89219e27822fe8"
  },
  {
   "metadata": {
    "ExecuteTime": {
     "end_time": "2025-02-28T08:08:15.220272Z",
     "start_time": "2025-02-28T08:08:15.189347Z"
    }
   },
   "cell_type": "code",
   "outputs": [],
   "execution_count": 11,
   "source": [
    "template_ft_2 = temp2freq_fft(time_series=bus.modules['inst'].inst_prt.planet_template_chop[i, :],\n",
    "                                          total_time=bus.modules['inst'].inst_prt.t_total)"
   ],
   "id": "237243a916f00242"
  },
  {
   "metadata": {},
   "cell_type": "markdown",
   "source": "# 2. Get Perturbation PSD",
   "id": "1a0ea0aae5db716d"
  },
  {
   "metadata": {
    "ExecuteTime": {
     "end_time": "2025-02-28T08:08:15.333084Z",
     "start_time": "2025-02-28T08:08:15.289757Z"
    }
   },
   "cell_type": "code",
   "source": "inst = instrument",
   "id": "15562582e7601d7b",
   "outputs": [],
   "execution_count": 12
  },
  {
   "metadata": {
    "ExecuteTime": {
     "end_time": "2025-02-28T08:08:15.392473Z",
     "start_time": "2025-02-28T08:08:15.355745Z"
    }
   },
   "cell_type": "code",
   "source": "inst.wl_bins[i]",
   "id": "65e7e1bc5cd1c1a0",
   "outputs": [
    {
     "data": {
      "text/plain": [
       "1.0092572320117914e-05"
      ]
     },
     "execution_count": 13,
     "metadata": {},
     "output_type": "execute_result"
    }
   ],
   "execution_count": 13
  },
  {
   "metadata": {
    "ExecuteTime": {
     "end_time": "2025-02-28T08:08:15.476355Z",
     "start_time": "2025-02-28T08:08:15.441988Z"
    }
   },
   "cell_type": "code",
   "source": [
    "d_a_rms, d_phi_rms, d_pol_rms, _, _ = rms_frequency_adjust(\n",
    "    rms_mode=inst.rms_mode,\n",
    "    wl=inst.wl_bins[i],\n",
    "    d_a_rms=inst.d_a_rms,\n",
    "    d_phi_rms=inst.d_phi_rms,\n",
    "    d_pol_rms=inst.d_pol_rms,\n",
    "    d_x_rms=None,\n",
    "    d_y_rms=None\n",
    ")"
   ],
   "id": "6cad5e8d17c81bf5",
   "outputs": [],
   "execution_count": 14
  },
  {
   "metadata": {
    "ExecuteTime": {
     "end_time": "2025-02-28T08:08:15.547689Z",
     "start_time": "2025-02-28T08:08:15.510294Z"
    }
   },
   "cell_type": "code",
   "source": [
    "# create PSDs\n",
    "d_a_psd, avg_d_a_2, d_a_b_2 = create_pink_psd(\n",
    "    t_total=inst.t_total,\n",
    "    n_sampling_max=int(len(inst.planet_template_chop[0])/2),\n",
    "    harmonic_number_n_cutoff=inst.harmonic_number_n_cutoff['a'],\n",
    "    rms=d_a_rms,\n",
    "    num_a=inst.num_a,\n",
    "    n_rot=inst.n_rot,\n",
    "    hyperrot_noise=inst.hyperrot_noise\n",
    ")\n",
    "\n",
    "d_phi_psd, avg_d_phi_2, d_phi_b_2 = create_pink_psd(\n",
    "    t_total=inst.t_total,\n",
    "    n_sampling_max=int(len(inst.planet_template_chop[0])/2),\n",
    "    harmonic_number_n_cutoff=inst.harmonic_number_n_cutoff['phi'],\n",
    "    rms=d_phi_rms,\n",
    "    num_a=inst.num_a,\n",
    "    n_rot=inst.n_rot,\n",
    "    hyperrot_noise=inst.hyperrot_noise\n",
    ")"
   ],
   "id": "faf5492d1e429c76",
   "outputs": [],
   "execution_count": 15
  },
  {
   "metadata": {
    "ExecuteTime": {
     "end_time": "2025-02-28T08:08:15.621991Z",
     "start_time": "2025-02-28T08:08:15.583813Z"
    }
   },
   "cell_type": "code",
   "source": "conv_psd = np.convolve(d_a_psd[0], d_phi_psd[0], mode='same')",
   "id": "1037a1abecfd0ff6",
   "outputs": [],
   "execution_count": 16
  },
  {
   "metadata": {
    "ExecuteTime": {
     "end_time": "2025-02-28T08:08:15.696835Z",
     "start_time": "2025-02-28T08:08:15.659157Z"
    }
   },
   "cell_type": "code",
   "source": "np.abs(fftshift(d_a_psd[0][:-1]))[:maxn][0]",
   "id": "ab2dbb678f587688",
   "outputs": [
    {
     "data": {
      "text/plain": [
       "0.0"
      ]
     },
     "execution_count": 17,
     "metadata": {},
     "output_type": "execute_result"
    }
   ],
   "execution_count": 17
  },
  {
   "metadata": {
    "ExecuteTime": {
     "end_time": "2025-02-28T08:08:15.806141Z",
     "start_time": "2025-02-28T08:08:15.769913Z"
    }
   },
   "cell_type": "code",
   "source": "int(len(conv_psd)/2)",
   "id": "aaa4ef5ea515677c",
   "outputs": [
    {
     "data": {
      "text/plain": [
       "720"
      ]
     },
     "execution_count": 18,
     "metadata": {},
     "output_type": "execute_result"
    }
   ],
   "execution_count": 18
  },
  {
   "metadata": {
    "ExecuteTime": {
     "end_time": "2025-02-28T08:08:15.916099Z",
     "start_time": "2025-02-28T08:08:15.881427Z"
    }
   },
   "cell_type": "code",
   "source": "np.arange(-int(len(conv_psd)/2), int(len(conv_psd)/2) + 1)",
   "id": "ea923aed1d10bb5e",
   "outputs": [
    {
     "data": {
      "text/plain": [
       "array([-720, -719, -718, ...,  718,  719,  720])"
      ]
     },
     "execution_count": 19,
     "metadata": {},
     "output_type": "execute_result"
    }
   ],
   "execution_count": 19
  },
  {
   "metadata": {
    "ExecuteTime": {
     "end_time": "2025-02-28T08:08:16.243567Z",
     "start_time": "2025-02-28T08:08:16.000763Z"
    }
   },
   "cell_type": "code",
   "source": [
    "plt.plot(np.arange(-int(len(conv_psd)/2), int(len(conv_psd)/2) + 1), conv_psd)\n",
    "plt.xlim(-30, 30)"
   ],
   "id": "e479e4ee22947db5",
   "outputs": [
    {
     "data": {
      "text/plain": [
       "(-30.0, 30.0)"
      ]
     },
     "execution_count": 20,
     "metadata": {},
     "output_type": "execute_result"
    },
    {
     "data": {
      "text/plain": [
       "<Figure size 640x480 with 1 Axes>"
      ],
      "image/png": "[encoded data removed]"
     },
     "metadata": {},
     "output_type": "display_data"
    }
   ],
   "execution_count": 20
  },
  {
   "metadata": {
    "ExecuteTime": {
     "end_time": "2025-02-28T08:08:16.321069Z",
     "start_time": "2025-02-28T08:08:16.287378Z"
    }
   },
   "cell_type": "code",
   "source": [
    "os.environ[\"PATH\"] += os.pathsep + '/Library/TeX/texbin'\n",
    "\n",
    "#Direct input\n",
    "plt.rcParams['text.latex.preamble']=r'\\usepackage{lmodern} \\usepackage{amsmath}'\n",
    "\n",
    "#Options\n",
    "params = {'text.usetex' : True,\n",
    "          'font.size' : 8,\n",
    "          'font.family' : 'lmodern',\n",
    "          # 'text.latex.unicode': True,\n",
    "          }\n",
    "plt.rcParams.update(params)"
   ],
   "id": "28e22833fa39e994",
   "outputs": [],
   "execution_count": 21
  },
  {
   "metadata": {
    "ExecuteTime": {
     "end_time": "2025-02-28T08:13:23.476630Z",
     "start_time": "2025-02-28T08:13:21.704678Z"
    }
   },
   "cell_type": "code",
   "source": [
    "temp_scale = 0.5\n",
    "\n",
    "# extract one single color from thermal colormap\n",
    "cs = {'k': 'k',\n",
    "      'orange': '#d95f02',\n",
    "      'green': '#7570b3', # '#1b9e77',\n",
    "      'blue': '#7570b3'}\n",
    "\n",
    "cs = {'k': 'k',\n",
    "      'orange': '#F2A03D',\n",
    "      'green': '#143373', # '#1b9e77',\n",
    "      'blue': '#7570b3'}\n",
    "\n",
    "fig, ax = plt.subplots(figsize=(3.55, 2), dpi=400)\n",
    "\n",
    "plt.step(np.arange(maxn), np.abs(fftshift(d_a_psd[0][:-1]))[:maxn] / np.max(np.abs(fftshift(d_a_psd[0]))[:maxn]), c='k', ls='--', where='mid', label=r'$\\boldsymbol{S}_\\phi^*$')\n",
    "\n",
    "plt.fill_between(np.arange(maxn), np.abs(fftshift(d_a_psd[0][:-1]))[:maxn] / np.max(np.abs(fftshift(d_a_psd[0]))[:maxn]), step='mid', alpha=0.1, color='gray')\n",
    "\n",
    "plt.step(np.arange(maxn), \n",
    "         np.abs(fftshift(conv_psd[:-1]))[:maxn] / np.max(np.abs(fftshift(conv_psd))[:maxn]) / 2,\n",
    "         c='k', ls='-', where='mid', label=r'$\\boldsymbol{S}_A^* \\ast \\boldsymbol{S}_\\phi^*$')\n",
    "\n",
    "plt.fill_between(np.arange(maxn), \n",
    "         np.abs(fftshift(conv_psd[:-1]))[:maxn] / np.max(np.abs(fftshift(conv_psd))[:maxn]) / 2,\n",
    "                 step='mid',\n",
    "                 alpha=0.1, color='gray')\n",
    "\n",
    "plt.bar(np.arange(maxn), np.abs(fftshift(template_ft[:-1]**2))[:maxn] / np.max(np.abs(fftshift(template_ft[:-1]**2))[:maxn]) * temp_scale, color=cs['orange'], zorder=10, alpha=1)\n",
    "\n",
    "plt.bar(np.arange(maxn), np.abs(fftshift(template_ft_2[:-1]**2))[:maxn] / np.max(np.abs(fftshift(template_ft_2[:-1]**2))[:maxn]) * temp_scale, color=cs['green'], zorder=10, alpha=1)\n",
    "\n",
    "plt.xlim(-1, 35)\n",
    "plt.ylim(0, 1.1)\n",
    "\n",
    "plt.yticks([])\n",
    "plt.xlabel('Harmonic of Array Rotation')\n",
    "plt.ylabel('Normalized Intensity (a.u.)')\n",
    "\n",
    "# Create a custom two-colored patch (half orange, half blue)\n",
    "custom_patch = Rectangle((0, 0), 1, 1, color='none',\n",
    "                         edgecolor='none')  # An invisible rectangle to hold the legend space\n",
    "\n",
    "# Custom legend handler class to create a two-colored bar\n",
    "class TwoColorPatchHandler(HandlerBase):\n",
    "    def create_artists(self, legend, orig_handle, x0, y0, width, height, fontsize, trans):\n",
    "        # Create two rectangles for the two colors\n",
    "        \n",
    "        height *= 0.7\n",
    "        \n",
    "        orange_patch = Rectangle([x0, y0], width / 2, height, transform=trans, color=cs['green'])\n",
    "        blue_patch = Rectangle([x0 + width / 2, y0], width / 2, height, transform=trans, color=cs['orange'])\n",
    "        \n",
    "        return [orange_patch, blue_patch]\n",
    "\n",
    "# Get the existing handles and labels for the sine and cosine plots\n",
    "handles, labels = ax.get_legend_handles_labels()\n",
    "\n",
    "# Append the custom patch to the handles and the corresponding label\n",
    "handles.insert(0, custom_patch)\n",
    "labels.insert(0, r'$| \\tilde{\\eta} |^2$')\n",
    "\n",
    "# Add the custom patch and the existing entries to the legend\n",
    "legend = ax.legend(handles=handles, labels=labels, handler_map={custom_patch: TwoColorPatchHandler()}, frameon=False, loc='upper right', fontsize=6)\n",
    "\n",
    "\n",
    "x_2 = [16, 0.98]\n",
    "b_2 = 0.05\n",
    "\n",
    "pos_2 = np.array([x_2, \n",
    "         [x_2[0], x_2[1] - b_2],\n",
    "         [x_2[0] - b_2*2*20, x_2[1] - b_2], \n",
    "         [x_2[0] - b_2*2*20, x_2[1]]])\n",
    "\n",
    "x_6 = [16, 0.85]\n",
    "b_6 = 0.05\n",
    "\n",
    "pos_6 = np.array([x_6,\n",
    "         [x_6[0], x_6[1] - b_6],\n",
    "         [x_6[0] - b_6*6*20, x_6[1] - b_6], \n",
    "         [x_6[0] - b_6*6*20, x_6[1]]])\n",
    "\n",
    "ax.scatter(pos_2[:, 0], pos_2[:, 1], s=3, c=cs['green'])\n",
    "ax.scatter(pos_6[:, 0], pos_6[:, 1], c=cs['orange'], s=3)\n",
    "\n",
    "ax.text(18, 0.95, 'ratio = 2', ha='left', va='center', fontsize=8, color=cs['green'])\n",
    "ax.text(18, 0.82, 'ratio = 6', ha='left', va='center', fontsize=8, color=cs['orange'])\n",
    "\n",
    "plt.plot([pos_2[0, 0], pos_2[2, 0]], [pos_2[0, 1], pos_2[2, 1]], c=cs['green'], lw=0.3)\n",
    "plt.plot([pos_2[1, 0], pos_2[3, 0]], [pos_2[1, 1], pos_2[3, 1]], c=cs['green'], lw=0.3)\n",
    "\n",
    "plt.plot([pos_6[0, 0], pos_6[2, 0]], [pos_6[0, 1], pos_6[2, 1]], c=cs['orange'], lw=0.3)\n",
    "plt.plot([pos_6[1, 0], pos_6[3, 0]], [pos_6[1, 1], pos_6[3, 1]], c=cs['orange'], lw=0.3)\n",
    "\n",
    "plt.tight_layout()\n",
    "plt.show()"
   ],
   "id": "3d2f9dfd84e0a31b",
   "outputs": [
    {
     "name": "stderr",
     "output_type": "stream",
     "text": [
      "/var/folders/rs/chvp5qfj3j76n4gdp708g4vc0000gn/T/ipykernel_65955/164952516.py:41: UserWarning: Setting the 'color' property will override the edgecolor or facecolor properties.\n",
      "  custom_patch = Rectangle((0, 0), 1, 1, color='none',\n"
     ]
    },
    {
     "data": {
      "text/plain": [
       "<Figure size 1420x800 with 1 Axes>"
      ],
      "image/png": "[encoded data removed]"
     },
     "metadata": {},
     "output_type": "display_data"
    }
   ],
   "execution_count": 25
  },
  {
   "metadata": {
    "ExecuteTime": {
     "end_time": "2024-11-27T14:43:04.454303Z",
     "start_time": "2024-11-27T14:43:04.366080Z"
    }
   },
   "cell_type": "code",
   "source": [
    "# give the array a new axis\n",
    "np.array(color)[np.newaxis, :]"
   ],
   "id": "ad53b939ffc8bf97",
   "outputs": [
    {
     "ename": "NameError",
     "evalue": "name 'color' is not defined",
     "output_type": "error",
     "traceback": [
      "\u001B[0;31m---------------------------------------------------------------------------\u001B[0m",
      "\u001B[0;31mNameError\u001B[0m                                 Traceback (most recent call last)",
      "Cell \u001B[0;32mIn[25], line 2\u001B[0m\n\u001B[1;32m      1\u001B[0m \u001B[38;5;66;03m# give the array a new axis\u001B[39;00m\n\u001B[0;32m----> 2\u001B[0m np\u001B[38;5;241m.\u001B[39marray(\u001B[43mcolor\u001B[49m)[np\u001B[38;5;241m.\u001B[39mnewaxis, :]\n",
      "\u001B[0;31mNameError\u001B[0m: name 'color' is not defined"
     ]
    }
   ],
   "execution_count": 25
  },
  {
   "metadata": {
    "ExecuteTime": {
     "end_time": "2024-11-27T14:43:06.885512Z",
     "start_time": "2024-11-27T14:43:04.672731Z"
    }
   },
   "cell_type": "code",
   "source": [
    "plt.plot(np.arange(maxn), np.abs(fftshift(d_a_psd[0]))[:maxn] / np.max(np.abs(fftshift(d_a_psd[0]))[:maxn]), c='k')\n",
    "plt.plot(np.arange(maxn), np.abs(fftshift(d_phi_psd[0]))[:maxn] / np.max(np.abs(fftshift(d_phi_psd[0]))[:maxn]), c='tab:blue')\n",
    "plt.plot(np.arange(maxn), np.abs(fftshift(conv_psd))[:maxn] / np.max(np.abs(fftshift(conv_psd))[:maxn]), c='tab:orange')"
   ],
   "id": "a56f5f8f5abbcb2f",
   "outputs": [
    {
     "data": {
      "text/plain": [
       "[<matplotlib.lines.Line2D at 0x7fedf1dc0e50>]"
      ]
     },
     "execution_count": 26,
     "metadata": {},
     "output_type": "execute_result"
    },
    {
     "data": {
      "text/plain": [
       "<Figure size 640x480 with 1 Axes>"
      ],
      "image/png": "[encoded data removed]"
     },
     "metadata": {},
     "output_type": "display_data"
    }
   ],
   "execution_count": 26
  },
  {
   "metadata": {},
   "cell_type": "code",
   "outputs": [],
   "execution_count": null,
   "source": "",
   "id": "9b9dcdd6de4ec3d9"
  }
 ],
 "metadata": {
  "kernelspec": {
   "display_name": "Python 3",
   "language": "python",
   "name": "python3"
  },
  "language_info": {
   "codemirror_mode": {
    "name": "ipython",
    "version": 2
   },
   "file_extension": ".py",
   "mimetype": "text/x-python",
   "name": "python",
   "nbconvert_exporter": "python",
   "pygments_lexer": "ipython2",
   "version": "2.7.6"
  }
 },
 "nbformat": 4,
 "nbformat_minor": 5
}
