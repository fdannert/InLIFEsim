{
 "cells": [
  {
   "cell_type": "code",
   "id": "initial_id",
   "metadata": {
    "collapsed": true,
    "ExecuteTime": {
     "end_time": "2025-04-21T15:07:23.598769Z",
     "start_time": "2025-04-21T15:07:17.398733Z"
    }
   },
   "source": [
    "%load_ext autoreload\n",
    "%autoreload 2\n",
    "\n",
    "import os\n",
    "from copy import deepcopy\n",
    "\n",
    "import matplotlib.pyplot as plt\n",
    "import numpy as np\n",
    "import pandas as pd\n",
    "from astropy import units as u\n",
    "from scipy.fft import fftshift\n",
    "from cmocean.cm import thermal\n",
    "from matplotlib.patches import Rectangle\n",
    "from matplotlib.legend_handler import HandlerBase\n",
    "from spectres import spectres\n",
    "\n",
    "import lifesim\n",
    "from inlifesim.spectra import create_pink_psd, rms_frequency_adjust\n",
    "from inlifesim.util import temp2freq_fft\n",
    "from lifesim.util.radiation import black_body\n",
    "import inlifesim as ils"
   ],
   "outputs": [],
   "execution_count": 1
  },
  {
   "metadata": {},
   "cell_type": "markdown",
   "source": "# 1. Setup parameters and load spectrum",
   "id": "160047fb30f08224"
  },
  {
   "metadata": {
    "ExecuteTime": {
     "end_time": "2025-04-21T15:07:23.665388Z",
     "start_time": "2025-04-21T15:07:23.613656Z"
    }
   },
   "cell_type": "code",
   "source": [
    "path_spectrum = '/Users/fdannert/Documents/projects/InLIFEsim/working/nice_requirements/input_data/Earth_PRTunits_10pc.txt'\n",
    "path_bs = '/Users/fdannert/Documents/projects/InLIFEsim/working/paper/final_result_table/lookup_table_1e10_Nov24.pkl'"
   ],
   "id": "8d0229912cee6564",
   "outputs": [],
   "execution_count": 2
  },
  {
   "metadata": {
    "ExecuteTime": {
     "end_time": "2025-04-21T15:07:24.951508Z",
     "start_time": "2025-04-21T15:07:24.906602Z"
    }
   },
   "cell_type": "code",
   "source": [
    "earth_twin = {'distance_s': 10,\n",
    "              'temp_s': 5778.,\n",
    "              'radius_s': 1.,\n",
    "              'lat_s': 0.78,\n",
    "              'l_sun': 1.,\n",
    "              'z': 1.,\n",
    "              'temp_p': 254.,\n",
    "              'radius_p': 1.,\n",
    "              'sep_p': 1.,}\n",
    "\n",
    "dbw = {'ap_diameter': 3.,\n",
    "       'spec_res': 50.,\n",
    "       't_int': 16 * 24 * 60 * 60,  #  10 * 24 * 60 * 60\n",
    "       'throughput': 0.035,\n",
    "       't_exp': 60 * 10,\n",
    "       'n_rot': 1,\n",
    "       'wl_bin': 10e-6,  # 10e-6\n",
    "       'bl': 14.5,\n",
    "       'ratio': 6,\n",
    "       'wl_bin_width': 0.3e-6,  # 0.3e-6\n",
    "       'rms_mode': 'wavelength',\n",
    "       'hyperrot_noise': 'zero',\n",
    "       'd_phi_rms': 0.0013,  # 0.005, 0.001\n",
    "       'd_a_rms': 0.0013,\n",
    "       'd_x_rms': 0.,\n",
    "       'd_y_rms': 0.,\n",
    "       'd_pol_rms': 0.0013,\n",
    "       'd_a_co': 10e3,\n",
    "       'd_phi_co': 10e3,\n",
    "       'd_pol_co': 10e3,\n",
    "       'd_x_co': 0.64e-3,\n",
    "       'd_y_co': 0.64e-3}\n",
    "\n",
    "dbw_rat2 = deepcopy(dbw)\n",
    "dbw_rat2['ratio'] = 2"
   ],
   "id": "f9d227e520a463e2",
   "outputs": [],
   "execution_count": 4
  },
  {
   "metadata": {
    "ExecuteTime": {
     "end_time": "2025-04-21T15:07:25.446535Z",
     "start_time": "2025-04-21T15:07:25.387806Z"
    }
   },
   "cell_type": "code",
   "source": [
    "data = pd.read_csv(\n",
    "    path_spectrum,\n",
    "    header=None, sep='\\s+')\n",
    "\n",
    "lam_PRT = data[0].values * u.micron\n",
    "f_PRT = data[1].values * u.erg / u.cm ** 2 / u.s / u.Hz\n",
    "f_lifesim = f_PRT.to(u.photon / u.m ** 2 / u.s / u.micron,\n",
    "                     equivalencies=u.spectral_density(lam_PRT))\n",
    "\n",
    "f_lifesim = f_lifesim.to(u.photon / u.s / u.meter ** 3)\n",
    "lam_lifesim = lam_PRT.to(u.meter)\n",
    "\n",
    "# scale planet flux to distance\n",
    "f_lifesim *= (10 / earth_twin['distance_s']) ** 2\n",
    "\n",
    "flux_planet_spectrum = [lam_lifesim, f_lifesim]\n",
    "f_lifesim = spectres(new_wavs=np.array((dbw['wl_bin'] - dbw['wl_bin_width'] / 2, dbw['wl_bin'] + dbw['wl_bin_width'] / 2)),\n",
    "                     spec_wavs=lam_lifesim.value,\n",
    "                     spec_fluxes=f_lifesim.value,\n",
    "                     edge_mode=True)\n",
    "flux_planet_spectrum = f_lifesim * dbw['wl_bin_width']"
   ],
   "id": "771c0bce6051a65a",
   "outputs": [],
   "execution_count": 6
  },
  {
   "metadata": {
    "ExecuteTime": {
     "end_time": "2025-04-21T15:07:25.540919Z",
     "start_time": "2025-04-21T15:07:25.492249Z"
    }
   },
   "cell_type": "code",
   "source": [
    "# calculate bin widths from bin positions lam_lifesim\n",
    "bin_widths = np.append(np.diff(lam_lifesim.value), 0)\n",
    "\n",
    "flux_planet_spectrum_bb = black_body(mode='planet',\n",
    "                                     # bins=lam_lifesim.value,\n",
    "                                     # width=bin_widths,\n",
    "                                     bins=np.array((dbw['wl_bin'], )),\n",
    "                                     width=np.array((dbw['wl_bin_width'], )),\n",
    "                                     temp=254,\n",
    "                                     radius=earth_twin['radius_p'],\n",
    "                                     distance=earth_twin['distance_s'],)\n",
    "\n",
    "# flux_planet_spectrum_bb /= dbw['wl_bin_width']\n",
    "flux_planet_spectrum = flux_planet_spectrum_bb"
   ],
   "id": "bf26e31006d83ff9",
   "outputs": [],
   "execution_count": 7
  },
  {
   "metadata": {},
   "cell_type": "markdown",
   "source": [
    "# 2. Run instrument model\n",
    "To get the template function for ratio 6 and ratio 2 case."
   ],
   "id": "7f1be769e7810b8c"
  },
  {
   "metadata": {
    "ExecuteTime": {
     "end_time": "2025-04-21T15:07:25.947768Z",
     "start_time": "2025-04-21T15:07:25.619260Z"
    }
   },
   "cell_type": "code",
   "source": [
    "col_pos = np.array((\n",
    "                (-dbw['bl'] / 2,\n",
    "                 -dbw['bl'] * dbw['ratio'] / 2),\n",
    "                (-dbw['bl'] / 2,\n",
    "                 dbw['bl'] * dbw['ratio'] / 2),\n",
    "                (dbw['bl'] / 2,\n",
    "                 -dbw['bl'] * dbw['ratio'] / 2),\n",
    "                (dbw['bl'] / 2,\n",
    "                 dbw['bl'] * dbw['ratio'] / 2)\n",
    "            ))\n",
    "\n",
    "instrument = ils.Instrument(wl_bins=np.array((dbw['wl_bin'], )),\n",
    "                            wl_bin_widths=np.array((dbw['wl_bin_width'], )),\n",
    "                            image_size=512,\n",
    "                            diameter_ap=dbw['ap_diameter'],\n",
    "                            flux_division=np.array((0.25, 0.25, 0.25, 0.25)),\n",
    "                            throughput=dbw['throughput'],\n",
    "                            dist_star=earth_twin['distance_s'],\n",
    "                            radius_star=earth_twin['radius_s'],\n",
    "                            temp_star=earth_twin['temp_s'],\n",
    "                            lat_star=earth_twin['lat_s'],\n",
    "                            l_sun=earth_twin['l_sun'],\n",
    "                            z=earth_twin['z'],\n",
    "                            temp_planet=earth_twin['temp_p'],\n",
    "                            radius_planet=earth_twin['radius_p'],\n",
    "                            separation_planet=earth_twin['sep_p'],\n",
    "                            col_pos=col_pos,\n",
    "                            phase_response=np.array((0, np.pi / 2, np.pi, 3 * np.pi / 2)),\n",
    "                            phase_response_chop=-np.array((0, np.pi / 2, np.pi, 3 * np.pi / 2)),\n",
    "                            n_rot=dbw['n_rot'],\n",
    "                            t_total=dbw['t_int'],\n",
    "                            t_exp=dbw['t_exp'],\n",
    "                            n_cpu=1,\n",
    "                            rms_mode=dbw['rms_mode'],\n",
    "                            hyperrot_noise=dbw['hyperrot_noise'],\n",
    "                            n_sampling_max=int(1e7),\n",
    "                            d_a_rms=dbw['d_a_rms'],\n",
    "                            d_phi_rms=dbw['d_phi_rms'],\n",
    "                            d_pol_rms=dbw['d_pol_rms'],\n",
    "                            d_x_rms=dbw['d_x_rms'],\n",
    "                            d_y_rms=dbw['d_y_rms'],\n",
    "                            d_a_co=dbw['d_a_co'],\n",
    "                            d_phi_co=dbw['d_phi_co'],\n",
    "                            d_pol_co=dbw['d_pol_co'],\n",
    "                            d_x_co=dbw['d_x_co'],\n",
    "                            d_y_co=dbw['d_y_co'],\n",
    "                            n_draws=None,\n",
    "                            n_draws_per_run=None,\n",
    "                            time_series_return_values='all',\n",
    "                            flux_planet=flux_planet_spectrum,\n",
    "                            simultaneous_chopping=True,\n",
    "                            verbose=True,\n",
    "                            draw_samples=False,\n",
    "                            get_single_bracewell=False,\n",
    "                            instrumental_source=None)\n",
    "instrument.run()\n",
    "\n",
    "ils_res = deepcopy(instrument.photon_rates_chop)\n",
    "\n",
    "col_pos = np.array((\n",
    "                (-dbw_rat2['bl'] / 2,\n",
    "                 -dbw_rat2['bl'] * dbw_rat2['ratio'] / 2),\n",
    "                (-dbw_rat2['bl'] / 2,\n",
    "                 dbw_rat2['bl'] * dbw_rat2['ratio'] / 2),\n",
    "                (dbw_rat2['bl'] / 2,\n",
    "                 -dbw_rat2['bl'] * dbw_rat2['ratio'] / 2),\n",
    "                (dbw_rat2['bl'] / 2,\n",
    "                 dbw_rat2['bl'] * dbw_rat2['ratio'] / 2)\n",
    "            ))\n",
    "\n",
    "instrument_rat2 = ils.Instrument(wl_bins=np.array((dbw_rat2['wl_bin'], )),\n",
    "                            wl_bin_widths=np.array((dbw_rat2['wl_bin_width'], )),\n",
    "                            image_size=512,\n",
    "                            diameter_ap=dbw_rat2['ap_diameter'],\n",
    "                            flux_division=np.array((0.25, 0.25, 0.25, 0.25)),\n",
    "                            throughput=dbw_rat2['throughput'],\n",
    "                            dist_star=earth_twin['distance_s'],\n",
    "                            radius_star=earth_twin['radius_s'],\n",
    "                            temp_star=earth_twin['temp_s'],\n",
    "                            lat_star=earth_twin['lat_s'],\n",
    "                            l_sun=earth_twin['l_sun'],\n",
    "                            z=earth_twin['z'],\n",
    "                            temp_planet=earth_twin['temp_p'],\n",
    "                            radius_planet=earth_twin['radius_p'],\n",
    "                            separation_planet=earth_twin['sep_p'],\n",
    "                            col_pos=col_pos,\n",
    "                            phase_response=np.array((0, np.pi / 2, np.pi, 3 * np.pi / 2)),\n",
    "                            phase_response_chop=-np.array((0, np.pi / 2, np.pi, 3 * np.pi / 2)),\n",
    "                            n_rot=dbw_rat2['n_rot'],\n",
    "                            t_total=dbw_rat2['t_int'],\n",
    "                            t_exp=dbw_rat2['t_exp'],\n",
    "                            n_cpu=1,\n",
    "                            rms_mode=dbw_rat2['rms_mode'],\n",
    "                            hyperrot_noise=dbw_rat2['hyperrot_noise'],\n",
    "                            n_sampling_max=int(1e7),\n",
    "                            d_a_rms=dbw_rat2['d_a_rms'],\n",
    "                            d_phi_rms=dbw_rat2['d_phi_rms'],\n",
    "                            d_pol_rms=dbw_rat2['d_pol_rms'],\n",
    "                            d_x_rms=dbw_rat2['d_x_rms'],\n",
    "                            d_y_rms=dbw_rat2['d_y_rms'],\n",
    "                            d_a_co=dbw_rat2['d_a_co'],\n",
    "                            d_phi_co=dbw_rat2['d_phi_co'],\n",
    "                            d_pol_co=dbw_rat2['d_pol_co'],\n",
    "                            d_x_co=dbw_rat2['d_x_co'],\n",
    "                            d_y_co=dbw_rat2['d_y_co'],\n",
    "                            n_draws=None,\n",
    "                            n_draws_per_run=None,\n",
    "                            time_series_return_values='all',\n",
    "                            flux_planet=flux_planet_spectrum,\n",
    "                            simultaneous_chopping=True,\n",
    "                            verbose=True,\n",
    "                            draw_samples=False,\n",
    "                            get_single_bracewell=False,\n",
    "                            instrumental_source=None)\n",
    "instrument_rat2.run()\n",
    "\n",
    "ils_res_rat2 = deepcopy(instrument_rat2.photon_rates_chop)"
   ],
   "id": "8e9c2f6f65c76cca",
   "outputs": [
    {
     "name": "stdout",
     "output_type": "stream",
     "text": [
      "Adjusted exposure time from 600 s to 599.74 s\n",
      "Will simulate 1 rotations in 16.0 days\n",
      "Total number of samples: 2305\n",
      "Number of rotation angles: 2305\n",
      "Creating astrophysical sources ... [Done]\n",
      "Calculating gradient and Hessian coefficients ... [Done]\n",
      "Generating planet signal ... [Done]\n",
      "Shape of the planet template: (1, 2305)\n",
      "Calculating fundamental noise ... [Done]\n",
      "Calculating systematics noise (chopping) ... [Done]\n",
      "Adjusted exposure time from 600 s to 599.74 s\n",
      "Will simulate 1 rotations in 16.0 days\n",
      "Total number of samples: 2305\n",
      "Number of rotation angles: 2305\n",
      "Creating astrophysical sources ... [Done]\n",
      "Calculating gradient and Hessian coefficients ... [Done]\n",
      "Generating planet signal ... [Done]\n",
      "Shape of the planet template: (1, 2305)\n",
      "Calculating fundamental noise ... [Done]\n",
      "Calculating systematics noise (chopping) ... [Done]\n"
     ]
    }
   ],
   "execution_count": 8
  },
  {
   "metadata": {
    "ExecuteTime": {
     "end_time": "2025-04-21T15:07:26.171162Z",
     "start_time": "2025-04-21T15:07:26.129892Z"
    }
   },
   "cell_type": "code",
   "source": [
    "template_ft = temp2freq_fft(time_series=instrument.planet_template_chop[0, :])\n",
    "template_ft_2 = temp2freq_fft(time_series=instrument_rat2.planet_template_chop[0, :])"
   ],
   "id": "cc39f60313180138",
   "outputs": [],
   "execution_count": 9
  },
  {
   "metadata": {},
   "cell_type": "markdown",
   "source": "# 3. Get noise PSDs",
   "id": "4aa1c26a024adf37"
  },
  {
   "metadata": {
    "ExecuteTime": {
     "end_time": "2025-04-21T15:07:27.316662Z",
     "start_time": "2025-04-21T15:07:27.283493Z"
    }
   },
   "cell_type": "code",
   "source": "inst = instrument",
   "id": "15562582e7601d7b",
   "outputs": [],
   "execution_count": 11
  },
  {
   "metadata": {
    "ExecuteTime": {
     "end_time": "2025-04-21T15:07:37.870606Z",
     "start_time": "2025-04-21T15:07:37.835299Z"
    }
   },
   "cell_type": "code",
   "source": [
    "d_a_rms, d_phi_rms, d_pol_rms, _, _ = rms_frequency_adjust(\n",
    "    rms_mode=inst.rms_mode,\n",
    "    wl=inst.wl_bins[0],\n",
    "    d_a_rms=inst.d_a_rms,\n",
    "    d_phi_rms=inst.d_phi_rms,\n",
    "    d_pol_rms=inst.d_pol_rms,\n",
    "    d_x_rms=None,\n",
    "    d_y_rms=None\n",
    ")"
   ],
   "id": "6cad5e8d17c81bf5",
   "outputs": [],
   "execution_count": 14
  },
  {
   "metadata": {
    "ExecuteTime": {
     "end_time": "2025-04-21T15:07:40.842761Z",
     "start_time": "2025-04-21T15:07:40.792981Z"
    }
   },
   "cell_type": "code",
   "source": [
    "# create PSDs\n",
    "d_a_psd, avg_d_a_2, d_a_b_2 = create_pink_psd(\n",
    "    t_total=inst.t_total,\n",
    "    n_sampling_total=len(inst.planet_template_chop[0]),\n",
    "    harmonic_number_n_cutoff=inst.harmonic_number_n_cutoff['a'],\n",
    "    rms=d_a_rms,\n",
    "    num_a=inst.num_a,\n",
    "    n_rot=inst.n_rot,\n",
    "    hyperrot_noise=inst.hyperrot_noise\n",
    ")\n",
    "\n",
    "d_phi_psd, avg_d_phi_2, d_phi_b_2 = create_pink_psd(\n",
    "    t_total=inst.t_total,\n",
    "    n_sampling_total=len(inst.planet_template_chop[0]),\n",
    "    harmonic_number_n_cutoff=inst.harmonic_number_n_cutoff['phi'],\n",
    "    rms=d_phi_rms,\n",
    "    num_a=inst.num_a,\n",
    "    n_rot=inst.n_rot,\n",
    "    hyperrot_noise=inst.hyperrot_noise\n",
    ")"
   ],
   "id": "faf5492d1e429c76",
   "outputs": [],
   "execution_count": 15
  },
  {
   "metadata": {
    "ExecuteTime": {
     "end_time": "2025-04-21T15:07:42.016737Z",
     "start_time": "2025-04-21T15:07:41.973259Z"
    }
   },
   "cell_type": "code",
   "source": "conv_psd = np.convolve(d_a_psd[0], d_phi_psd[0], mode='same')",
   "id": "1037a1abecfd0ff6",
   "outputs": [],
   "execution_count": 16
  },
  {
   "metadata": {},
   "cell_type": "markdown",
   "source": "# 3. Get final plot",
   "id": "89115740c89c7450"
  },
  {
   "metadata": {
    "ExecuteTime": {
     "end_time": "2025-04-21T15:07:47.167997Z",
     "start_time": "2025-04-21T15:07:47.128373Z"
    }
   },
   "cell_type": "code",
   "source": [
    "os.environ[\"PATH\"] += os.pathsep + '/Library/TeX/texbin'\n",
    "\n",
    "#Direct input\n",
    "plt.rcParams['text.latex.preamble']=r'\\usepackage{lmodern} \\usepackage{amsmath}'\n",
    "\n",
    "#Options\n",
    "params = {'text.usetex' : True,\n",
    "          'font.size' : 8,\n",
    "          'font.family' : 'lmodern',\n",
    "          # 'text.latex.unicode': True,\n",
    "          }\n",
    "plt.rcParams.update(params)"
   ],
   "id": "28e22833fa39e994",
   "outputs": [],
   "execution_count": 21
  },
  {
   "metadata": {
    "ExecuteTime": {
     "end_time": "2025-04-21T15:14:15.961474Z",
     "start_time": "2025-04-21T15:14:15.233805Z"
    }
   },
   "cell_type": "code",
   "source": [
    "temp_scale = 0.5\n",
    "maxn = 50\n",
    "\n",
    "# extract one single color from thermal colormap\n",
    "cs = {'k': 'k',\n",
    "      'orange': '#d95f02',\n",
    "      'green': '#7570b3', # '#1b9e77',\n",
    "      'blue': '#7570b3'}\n",
    "\n",
    "cs = {'k': 'k',\n",
    "      'orange': '#F2A03D',\n",
    "      'green': '#143373', # '#1b9e77',\n",
    "      'blue': '#7570b3'}\n",
    "\n",
    "fig, ax = plt.subplots(figsize=(3.55, 2), dpi=400)\n",
    "\n",
    "plt.step(np.arange(maxn), np.abs(fftshift(d_a_psd[0][:-1]))[:maxn] / np.max(np.abs(fftshift(d_a_psd[0]))[:maxn]), c='k', ls='--', where='mid', label=r'$\\boldsymbol{S}_\\phi^*$')\n",
    "\n",
    "plt.fill_between(np.arange(maxn), np.abs(fftshift(d_a_psd[0][:-1]))[:maxn] / np.max(np.abs(fftshift(d_a_psd[0]))[:maxn]), step='mid', alpha=0.1, color='gray')\n",
    "\n",
    "plt.step(np.arange(maxn), \n",
    "         np.abs(fftshift(conv_psd[:-1]))[:maxn] / np.max(np.abs(fftshift(conv_psd))[:maxn]) / 2,\n",
    "         c='k', ls='-', where='mid', label=r'$\\boldsymbol{S}_A^* \\ast \\boldsymbol{S}_\\phi^*$')\n",
    "\n",
    "plt.fill_between(np.arange(maxn), \n",
    "         np.abs(fftshift(conv_psd[:-1]))[:maxn] / np.max(np.abs(fftshift(conv_psd))[:maxn]) / 2,\n",
    "                 step='mid',\n",
    "                 alpha=0.1, color='gray')\n",
    "\n",
    "plt.bar(np.arange(maxn), np.abs(fftshift(template_ft[:-1]**2))[:maxn] / np.max(np.abs(fftshift(template_ft[:-1]**2))[:maxn]) * temp_scale, color=cs['orange'], zorder=10, alpha=1)\n",
    "\n",
    "plt.bar(np.arange(maxn), np.abs(fftshift(template_ft_2[:-1]**2))[:maxn] / np.max(np.abs(fftshift(template_ft_2[:-1]**2))[:maxn]) * temp_scale, color=cs['green'], zorder=10, alpha=1)\n",
    "\n",
    "plt.xlim(-1, 35)\n",
    "plt.ylim(0, 1.1)\n",
    "\n",
    "plt.yticks([])\n",
    "plt.xlabel('Harmonic of Array Rotation')\n",
    "plt.ylabel('Normalized Intensity (a.u.)')\n",
    "\n",
    "# Create a custom two-colored patch (half orange, half blue)\n",
    "custom_patch = Rectangle((0, 0), 1, 1, color='none',\n",
    "                         edgecolor='none')  # An invisible rectangle to hold the legend space\n",
    "\n",
    "# Custom legend handler class to create a two-colored bar\n",
    "class TwoColorPatchHandler(HandlerBase):\n",
    "    def create_artists(self, legend, orig_handle, x0, y0, width, height, fontsize, trans):\n",
    "        # Create two rectangles for the two colors\n",
    "        \n",
    "        height *= 0.7\n",
    "        \n",
    "        orange_patch = Rectangle([x0, y0], width / 2, height, transform=trans, color=cs['green'])\n",
    "        blue_patch = Rectangle([x0 + width / 2, y0], width / 2, height, transform=trans, color=cs['orange'])\n",
    "        \n",
    "        return [orange_patch, blue_patch]\n",
    "\n",
    "# Get the existing handles and labels for the sine and cosine plots\n",
    "handles, labels = ax.get_legend_handles_labels()\n",
    "\n",
    "# Append the custom patch to the handles and the corresponding label\n",
    "handles.insert(0, custom_patch)\n",
    "labels.insert(0, r'$| \\tilde{\\eta} |^2$')\n",
    "\n",
    "# Add the custom patch and the existing entries to the legend\n",
    "legend = ax.legend(handles=handles, labels=labels, handler_map={custom_patch: TwoColorPatchHandler()}, frameon=False, loc='upper right', fontsize=6)\n",
    "\n",
    "\n",
    "x_2 = [16, 0.98]\n",
    "b_2 = 0.05\n",
    "\n",
    "pos_2 = np.array([x_2, \n",
    "         [x_2[0], x_2[1] - b_2],\n",
    "         [x_2[0] - b_2*2*20, x_2[1] - b_2], \n",
    "         [x_2[0] - b_2*2*20, x_2[1]]])\n",
    "\n",
    "x_6 = [16, 0.85]\n",
    "b_6 = 0.05\n",
    "\n",
    "pos_6 = np.array([x_6,\n",
    "         [x_6[0], x_6[1] - b_6],\n",
    "         [x_6[0] - b_6*6*20, x_6[1] - b_6], \n",
    "         [x_6[0] - b_6*6*20, x_6[1]]])\n",
    "\n",
    "ax.scatter(pos_2[:, 0], pos_2[:, 1], s=3, c=cs['green'])\n",
    "ax.scatter(pos_6[:, 0], pos_6[:, 1], c=cs['orange'], s=3)\n",
    "\n",
    "ax.text(18, 0.95, 'ratio = 2', ha='left', va='center', fontsize=8, color=cs['green'])\n",
    "ax.text(18, 0.82, 'ratio = 6', ha='left', va='center', fontsize=8, color=cs['orange'])\n",
    "\n",
    "plt.plot([pos_2[0, 0], pos_2[2, 0]], [pos_2[0, 1], pos_2[2, 1]], c=cs['green'], lw=0.3)\n",
    "plt.plot([pos_2[1, 0], pos_2[3, 0]], [pos_2[1, 1], pos_2[3, 1]], c=cs['green'], lw=0.3)\n",
    "\n",
    "plt.plot([pos_6[0, 0], pos_6[2, 0]], [pos_6[0, 1], pos_6[2, 1]], c=cs['orange'], lw=0.3)\n",
    "plt.plot([pos_6[1, 0], pos_6[3, 0]], [pos_6[1, 1], pos_6[3, 1]], c=cs['orange'], lw=0.3)\n",
    "\n",
    "plt.tight_layout()\n",
    "plt.show()"
   ],
   "id": "3d2f9dfd84e0a31b",
   "outputs": [
    {
     "name": "stderr",
     "output_type": "stream",
     "text": [
      "/var/folders/rs/chvp5qfj3j76n4gdp708g4vc0000gn/T/ipykernel_1898/3916855987.py:42: UserWarning: Setting the 'color' property will override the edgecolor or facecolor properties.\n",
      "  custom_patch = Rectangle((0, 0), 1, 1, color='none',\n"
     ]
    },
    {
     "data": {
      "text/plain": [
       "<Figure size 1420x800 with 1 Axes>"
      ],
      "image/png": "[encoded data removed]"
     },
     "metadata": {},
     "output_type": "display_data"
    }
   ],
   "execution_count": 23
  }
 ],
 "metadata": {
  "kernelspec": {
   "display_name": "Python 3",
   "language": "python",
   "name": "python3"
  },
  "language_info": {
   "codemirror_mode": {
    "name": "ipython",
    "version": 2
   },
   "file_extension": ".py",
   "mimetype": "text/x-python",
   "name": "python",
   "nbconvert_exporter": "python",
   "pygments_lexer": "ipython2",
   "version": "2.7.6"
  }
 },
 "nbformat": 4,
 "nbformat_minor": 5
}
