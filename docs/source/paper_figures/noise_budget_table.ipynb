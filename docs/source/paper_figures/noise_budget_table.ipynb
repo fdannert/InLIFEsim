{
 "cells": [
  {
   "metadata": {
    "ExecuteTime": {
     "end_time": "2025-04-21T14:35:01.902594Z",
     "start_time": "2025-04-21T14:34:47.818163Z"
    }
   },
   "cell_type": "code",
   "source": [
    "from copy import deepcopy\n",
    "\n",
    "import matplotlib.pyplot as plt\n",
    "import numpy as np\n",
    "import pandas as pd\n",
    "from astropy import units as u\n",
    "from scipy import stats\n",
    "from spectres import spectres\n",
    "from inlifesim.bootstrapping import InterpretBootstrapping\n",
    "from lifesim.util.radiation import black_body\n",
    "\n",
    "import inlifesim as ils"
   ],
   "id": "d0758a659617ff73",
   "outputs": [],
   "execution_count": 1
  },
  {
   "metadata": {},
   "cell_type": "markdown",
   "source": "# 1. Setup parameters and load spectrum",
   "id": "f930d115cf23e967"
  },
  {
   "metadata": {
    "ExecuteTime": {
     "end_time": "2025-04-21T14:35:01.923113Z",
     "start_time": "2025-04-21T14:35:01.916241Z"
    }
   },
   "cell_type": "code",
   "source": [
    "path_spectrum = 'data/Earth_PRTunits_10pc.txt'\n",
    "path_bs = 'data/lookup_table_1e10_Nov24.pkl'"
   ],
   "id": "5e9e0752f78e8cb7",
   "outputs": [],
   "execution_count": 2
  },
  {
   "metadata": {
    "ExecuteTime": {
     "end_time": "2025-04-21T14:35:02.090458Z",
     "start_time": "2025-04-21T14:35:02.078572Z"
    }
   },
   "cell_type": "code",
   "source": [
    "earth_twin = {'distance_s': 10,\n",
    "              'temp_s': 5778.,\n",
    "              'radius_s': 1.,\n",
    "              'lat_s': 0.78,\n",
    "              'l_sun': 1.,\n",
    "              'z': 1.,\n",
    "              'temp_p': 254.,\n",
    "              'radius_p': 1.,\n",
    "              'sep_p': 1.,}\n",
    "\n",
    "dbw = {'ap_diameter': 3.,\n",
    "       'spec_res': 50.,\n",
    "       't_int': 16 * 24 * 60 * 60,  #  10 * 24 * 60 * 60\n",
    "       'throughput': 0.035,\n",
    "       't_exp': 60 * 10,\n",
    "       'n_rot': 15,\n",
    "       'wl_bin': 10e-6,  # 10e-6\n",
    "       'bl': 14.5,\n",
    "       'ratio': 6,\n",
    "       'wl_bin_width': 0.3e-6,  # 0.3e-6\n",
    "       'rms_mode': 'wavelength',\n",
    "       'hyperrot_noise': 'zero',\n",
    "       'd_phi_rms': 0.0013,  # 0.005, 0.001\n",
    "       'd_a_rms': 0.0013,\n",
    "       'd_x_rms': 0.,\n",
    "       'd_y_rms': 0.,\n",
    "       'd_pol_rms': 0.0013,\n",
    "       'd_a_co': 10e3,\n",
    "       'd_phi_co': 10e3,\n",
    "       'd_pol_co': 10e3,\n",
    "       'd_x_co': 0.64e-3,\n",
    "       'd_y_co': 0.64e-3}"
   ],
   "id": "d5afe43126e93cdb",
   "outputs": [],
   "execution_count": 3
  },
  {
   "metadata": {
    "ExecuteTime": {
     "end_time": "2025-04-21T14:35:02.152883Z",
     "start_time": "2025-04-21T14:35:02.115581Z"
    }
   },
   "cell_type": "code",
   "source": [
    "data = pd.read_csv(\n",
    "    path_spectrum,\n",
    "    header=None, sep='\\s+')\n",
    "\n",
    "lam_PRT = data[0].values * u.micron\n",
    "f_PRT = data[1].values * u.erg / u.cm ** 2 / u.s / u.Hz\n",
    "f_lifesim = f_PRT.to(u.photon / u.m ** 2 / u.s / u.micron,\n",
    "                     equivalencies=u.spectral_density(lam_PRT))\n",
    "\n",
    "f_lifesim = f_lifesim.to(u.photon / u.s / u.meter ** 3)\n",
    "lam_lifesim = lam_PRT.to(u.meter)\n",
    "\n",
    "# scale planet flux to distance\n",
    "f_lifesim *= (10 / earth_twin['distance_s']) ** 2\n",
    "\n",
    "flux_planet_spectrum = [lam_lifesim, f_lifesim]\n",
    "f_lifesim = spectres(new_wavs=np.array((dbw['wl_bin'] - dbw['wl_bin_width'] / 2, dbw['wl_bin'] + dbw['wl_bin_width'] / 2)),\n",
    "                     spec_wavs=lam_lifesim.value,\n",
    "                     spec_fluxes=f_lifesim.value,\n",
    "                     edge_mode=True)\n",
    "flux_planet_spectrum = f_lifesim * dbw['wl_bin_width']"
   ],
   "id": "8b89846e91dfd534",
   "outputs": [],
   "execution_count": 4
  },
  {
   "metadata": {},
   "cell_type": "markdown",
   "source": "# 2. Run the instrument model",
   "id": "a994e07709090bd1"
  },
  {
   "metadata": {
    "ExecuteTime": {
     "end_time": "2025-04-21T14:35:02.399810Z",
     "start_time": "2025-04-21T14:35:02.181736Z"
    }
   },
   "cell_type": "code",
   "source": [
    "col_pos = np.array((\n",
    "                (-dbw['bl'] / 2,\n",
    "                 -dbw['bl'] * dbw['ratio'] / 2),\n",
    "                (-dbw['bl'] / 2,\n",
    "                 dbw['bl'] * dbw['ratio'] / 2),\n",
    "                (dbw['bl'] / 2,\n",
    "                 -dbw['bl'] * dbw['ratio'] / 2),\n",
    "                (dbw['bl'] / 2,\n",
    "                 dbw['bl'] * dbw['ratio'] / 2)\n",
    "            ))\n",
    "\n",
    "instrument = ils.Instrument(wl_bins=np.array((dbw['wl_bin'], )),\n",
    "                            wl_bin_widths=np.array((dbw['wl_bin_width'], )),\n",
    "                            image_size=512,\n",
    "                            diameter_ap=dbw['ap_diameter'],\n",
    "                            flux_division=np.array((0.25, 0.25, 0.25, 0.25)),\n",
    "                            throughput=dbw['throughput'],\n",
    "                            dist_star=earth_twin['distance_s'],\n",
    "                            radius_star=earth_twin['radius_s'],\n",
    "                            temp_star=earth_twin['temp_s'],\n",
    "                            lat_star=earth_twin['lat_s'],\n",
    "                            l_sun=earth_twin['l_sun'],\n",
    "                            z=earth_twin['z'],\n",
    "                            temp_planet=earth_twin['temp_p'],\n",
    "                            radius_planet=earth_twin['radius_p'],\n",
    "                            separation_planet=earth_twin['sep_p'],\n",
    "                            col_pos=col_pos,\n",
    "                            phase_response=np.array((0, np.pi / 2, np.pi, 3 * np.pi / 2)),\n",
    "                            phase_response_chop=-np.array((0, np.pi / 2, np.pi, 3 * np.pi / 2)),\n",
    "                            n_rot=dbw['n_rot'],\n",
    "                            t_total=dbw['t_int'],\n",
    "                            t_exp=dbw['t_exp'],\n",
    "                            n_cpu=1,\n",
    "                            rms_mode=dbw['rms_mode'],\n",
    "                            hyperrot_noise=dbw['hyperrot_noise'],\n",
    "                            n_sampling_max=int(1e7),\n",
    "                            d_a_rms=dbw['d_a_rms'],\n",
    "                            d_phi_rms=dbw['d_phi_rms'],\n",
    "                            d_pol_rms=dbw['d_pol_rms'],\n",
    "                            d_x_rms=dbw['d_x_rms'],\n",
    "                            d_y_rms=dbw['d_y_rms'],\n",
    "                            d_a_co=dbw['d_a_co'],\n",
    "                            d_phi_co=dbw['d_phi_co'],\n",
    "                            d_pol_co=dbw['d_pol_co'],\n",
    "                            d_x_co=dbw['d_x_co'],\n",
    "                            d_y_co=dbw['d_y_co'],\n",
    "                            n_draws=None,\n",
    "                            n_draws_per_run=None,\n",
    "                            time_series_return_values='all',\n",
    "                            flux_planet=flux_planet_spectrum,\n",
    "                            simultaneous_chopping=True,\n",
    "                            verbose=True,\n",
    "                            draw_samples=False,\n",
    "                            get_single_bracewell=False,\n",
    "                            instrumental_source=None)\n",
    "instrument.run()\n",
    "\n",
    "ils_res = deepcopy(instrument.photon_rates_chop)"
   ],
   "id": "501ed6c6b9dc252b",
   "outputs": [
    {
     "name": "stdout",
     "output_type": "stream",
     "text": [
      "Adjusted exposure time from 600 s to 594.58 s\n",
      "Will simulate 15 rotations in 16.0 days\n",
      "Total number of samples: 2325\n",
      "Number of rotation angles: 2325\n",
      "Creating astrophysical sources ... [Done]\n",
      "Calculating gradient and Hessian coefficients ... [Done]\n",
      "Generating planet signal ... [Done]\n",
      "Shape of the planet template: (1, 2325)\n",
      "Calculating fundamental noise ... [Done]\n",
      "Calculating systematics noise (chopping) ... [Done]\n"
     ]
    }
   ],
   "execution_count": 5
  },
  {
   "metadata": {},
   "cell_type": "markdown",
   "source": "To diffenretiate between noise sources, the instrument model needs to be run mutliple times",
   "id": "836bd8778770299"
  },
  {
   "metadata": {
    "ExecuteTime": {
     "end_time": "2025-04-21T14:35:02.786562Z",
     "start_time": "2025-04-21T14:35:02.471254Z"
    }
   },
   "cell_type": "code",
   "source": [
    "instrument_star = ils.Instrument(wl_bins=np.array((dbw['wl_bin'], )),\n",
    "                            wl_bin_widths=np.array((dbw['wl_bin_width'], )),\n",
    "                            image_size=512,\n",
    "                            diameter_ap=dbw['ap_diameter'],\n",
    "                            flux_division=np.array((0.25, 0.25, 0.25, 0.25)),\n",
    "                            throughput=dbw['throughput'],\n",
    "                            dist_star=earth_twin['distance_s'],\n",
    "                            radius_star=earth_twin['radius_s'],\n",
    "                            temp_star=earth_twin['temp_s'],\n",
    "                            lat_star=earth_twin['lat_s'],\n",
    "                            l_sun=earth_twin['l_sun'],\n",
    "                            z=earth_twin['z'],\n",
    "                            temp_planet=earth_twin['temp_p'],\n",
    "                            radius_planet=earth_twin['radius_p'],\n",
    "                            separation_planet=earth_twin['sep_p'],\n",
    "                            col_pos=col_pos,\n",
    "                            phase_response=np.array((0, np.pi / 2, np.pi, 3 * np.pi / 2)),\n",
    "                            phase_response_chop=-np.array((0, np.pi / 2, np.pi, 3 * np.pi / 2)),\n",
    "                            n_rot=dbw['n_rot'],\n",
    "                            t_total=dbw['t_int'],\n",
    "                            t_exp=dbw['t_exp'],\n",
    "                            n_cpu=1,\n",
    "                            rms_mode=dbw['rms_mode'],\n",
    "                            hyperrot_noise=dbw['hyperrot_noise'],\n",
    "                            n_sampling_max=int(1e7),\n",
    "                            d_a_rms=dbw['d_a_rms'],\n",
    "                            d_phi_rms=dbw['d_phi_rms'],\n",
    "                            d_pol_rms=dbw['d_pol_rms'],\n",
    "                            d_x_rms=dbw['d_x_rms'],\n",
    "                            d_y_rms=dbw['d_y_rms'],\n",
    "                            d_a_co=dbw['d_a_co'],\n",
    "                            d_phi_co=dbw['d_phi_co'],\n",
    "                            d_pol_co=dbw['d_pol_co'],\n",
    "                            d_x_co=dbw['d_x_co'],\n",
    "                            d_y_co=dbw['d_y_co'],\n",
    "                            n_draws=None,\n",
    "                            n_draws_per_run=None,\n",
    "                            time_series_return_values='all',\n",
    "                            flux_planet=flux_planet_spectrum,\n",
    "                            simultaneous_chopping=True,\n",
    "                            verbose=True,\n",
    "                            draw_samples=False,\n",
    "                            get_single_bracewell=False,\n",
    "                            instrumental_source='star')\n",
    "instrument_star.run()\n",
    "\n",
    "ils_res_star = deepcopy(instrument_star.photon_rates_chop)\n",
    "\n",
    "instrument_ez = ils.Instrument(wl_bins=np.array((dbw['wl_bin'], )),\n",
    "                            wl_bin_widths=np.array((dbw['wl_bin_width'], )),\n",
    "                            image_size=512,\n",
    "                            diameter_ap=dbw['ap_diameter'],\n",
    "                            flux_division=np.array((0.25, 0.25, 0.25, 0.25)),\n",
    "                            throughput=dbw['throughput'],\n",
    "                            dist_star=earth_twin['distance_s'],\n",
    "                            radius_star=earth_twin['radius_s'],\n",
    "                            temp_star=earth_twin['temp_s'],\n",
    "                            lat_star=earth_twin['lat_s'],\n",
    "                            l_sun=earth_twin['l_sun'],\n",
    "                            z=earth_twin['z'],\n",
    "                            temp_planet=earth_twin['temp_p'],\n",
    "                            radius_planet=earth_twin['radius_p'],\n",
    "                            separation_planet=earth_twin['sep_p'],\n",
    "                            col_pos=col_pos,\n",
    "                            phase_response=np.array((0, np.pi / 2, np.pi, 3 * np.pi / 2)),\n",
    "                            phase_response_chop=-np.array((0, np.pi / 2, np.pi, 3 * np.pi / 2)),\n",
    "                            n_rot=dbw['n_rot'],\n",
    "                            t_total=dbw['t_int'],\n",
    "                            t_exp=dbw['t_exp'],\n",
    "                            n_cpu=1,\n",
    "                            rms_mode=dbw['rms_mode'],\n",
    "                            hyperrot_noise=dbw['hyperrot_noise'],\n",
    "                            n_sampling_max=int(1e7),\n",
    "                            d_a_rms=dbw['d_a_rms'],\n",
    "                            d_phi_rms=dbw['d_phi_rms'],\n",
    "                            d_pol_rms=dbw['d_pol_rms'],\n",
    "                            d_x_rms=dbw['d_x_rms'],\n",
    "                            d_y_rms=dbw['d_y_rms'],\n",
    "                            d_a_co=dbw['d_a_co'],\n",
    "                            d_phi_co=dbw['d_phi_co'],\n",
    "                            d_pol_co=dbw['d_pol_co'],\n",
    "                            d_x_co=dbw['d_x_co'],\n",
    "                            d_y_co=dbw['d_y_co'],\n",
    "                            n_draws=None,\n",
    "                            n_draws_per_run=None,\n",
    "                            time_series_return_values='all',\n",
    "                            flux_planet=flux_planet_spectrum,\n",
    "                            simultaneous_chopping=True,\n",
    "                            verbose=True,\n",
    "                            draw_samples=False,\n",
    "                            get_single_bracewell=False,\n",
    "                            instrumental_source='ez')\n",
    "instrument_ez.run()\n",
    "\n",
    "ils_res_ez = deepcopy(instrument_ez.photon_rates_chop)"
   ],
   "id": "326d4d17490f603a",
   "outputs": [
    {
     "name": "stdout",
     "output_type": "stream",
     "text": [
      "Adjusted exposure time from 600 s to 594.58 s\n",
      "Will simulate 15 rotations in 16.0 days\n",
      "Total number of samples: 2325\n",
      "Number of rotation angles: 2325\n",
      "Creating astrophysical sources ... [Done]\n",
      "Calculating gradient and Hessian coefficients ... [Done]\n",
      "Generating planet signal ... [Done]\n",
      "Shape of the planet template: (1, 2325)\n",
      "Calculating fundamental noise ... [Done]\n",
      "Calculating systematics noise (chopping) ... [Done]\n",
      "Adjusted exposure time from 600 s to 594.58 s\n",
      "Will simulate 15 rotations in 16.0 days\n",
      "Total number of samples: 2325\n",
      "Number of rotation angles: 2325\n",
      "Creating astrophysical sources ... [Done]\n",
      "Calculating gradient and Hessian coefficients ... [Done]\n",
      "Generating planet signal ... [Done]\n",
      "Shape of the planet template: (1, 2325)\n",
      "Calculating fundamental noise ... [Done]\n",
      "Calculating systematics noise (chopping) ... [Done]\n"
     ]
    }
   ],
   "execution_count": 6
  },
  {
   "metadata": {},
   "cell_type": "markdown",
   "source": "# 3. Evaluate results from instrument model",
   "id": "3a47872df7b6f1d9"
  },
  {
   "metadata": {
    "ExecuteTime": {
     "end_time": "2025-04-21T14:35:02.816282Z",
     "start_time": "2025-04-21T14:35:02.800981Z"
    }
   },
   "cell_type": "code",
   "source": [
    "total_random = np.sqrt(ils_res['pn_sgl'].values[0]**2 + ils_res['pn_ez'].values[0]**2 + ils_res['pn_lz'].values[0]**2 + ils_res['pn_snfl'].values[0]) / dbw['t_int']\n",
    "\n",
    "total_syst = np.sqrt(ils_res['sn_fo'].values[0] + ils_res['sn_so'].values[0]) / dbw['t_int']\n",
    "total_noise = np.sqrt(ils_res['pn_sgl'].values[0]**2 + ils_res['pn_ez'].values[0]**2 + ils_res['pn_lz'].values[0]**2 + ils_res['pn_snfl'].values[0] + ils_res['sn_fo'].values[0] + ils_res['sn_so'].values[0]) / dbw['t_int']\n",
    "signal = ils_res['signal'].values[0] / dbw['t_int']\n",
    "\n",
    "test_stat = ils_res['signal'][0] / np.sqrt(ils_res['pn_sgl'].values[0]**2 + ils_res['pn_ez'].values[0]**2 + ils_res['pn_lz'].values[0]**2 + ils_res['pn_snfl'].values[0] + ils_res['sn_fo'].values[0] + ils_res['sn_so'].values[0])\n",
    "\n",
    "sigma_imb_gauss = np.sqrt(ils_res['sn_so'].values[0])/np.sqrt(ils_res['pn_sgl'].values[0]**2 + ils_res['pn_ez'].values[0]**2 + ils_res['pn_lz'].values[0]**2 + ils_res['pn_snfl'].values[0] + ils_res['sn_fo'].values[0])"
   ],
   "id": "962734b8f7a57c95",
   "outputs": [
    {
     "name": "stderr",
     "output_type": "stream",
     "text": [
      "/var/folders/rs/chvp5qfj3j76n4gdp708g4vc0000gn/T/ipykernel_4546/1424824848.py:7: FutureWarning: Series.__getitem__ treating keys as positions is deprecated. In a future version, integer keys will always be treated as labels (consistent with DataFrame behavior). To access a value by position, use `ser.iloc[pos]`\n",
      "  test_stat = ils_res['signal'][0] / np.sqrt(ils_res['pn_sgl'].values[0]**2 + ils_res['pn_ez'].values[0]**2 + ils_res['pn_lz'].values[0]**2 + ils_res['pn_snfl'].values[0] + ils_res['sn_fo'].values[0] + ils_res['sn_so'].values[0])\n"
     ]
    }
   ],
   "execution_count": 7
  },
  {
   "metadata": {
    "ExecuteTime": {
     "end_time": "2025-04-21T14:35:17.514654Z",
     "start_time": "2025-04-21T14:35:17.407831Z"
    }
   },
   "cell_type": "code",
   "source": [
    "ib = InterpretBootstrapping(path_bs)\n",
    "sigma_actual = ib.get_sigma_actual(sigma_analytical=np.array((test_stat, )),\n",
    "                                   sigma_ratio=np.array((sigma_imb_gauss, )))\n",
    "print('T_N: {:.2f}'.format(sigma_actual[0]))"
   ],
   "id": "4de94ab80a9cf5cd",
   "outputs": [
    {
     "name": "stdout",
     "output_type": "stream",
     "text": [
      "T_N: 7.90\n"
     ]
    }
   ],
   "execution_count": 12
  },
  {
   "metadata": {
    "ExecuteTime": {
     "end_time": "2025-04-21T14:35:03.173051Z",
     "start_time": "2025-04-21T14:35:03.157489Z"
    }
   },
   "cell_type": "code",
   "source": [
    "source_total = {'star': float(np.sqrt(ils_res_star['pn_sgl'].values[0]**2 + ils_res_star['pn_snfl'] + ils_res_star['sn_fo'] + ils_res_star['sn_so']) / dbw['t_int']),\n",
    "                'exo': \n",
    "            float(np.sqrt(ils_res_ez['pn_ez'].values[0]**2 + ils_res_ez['pn_snfl'] + ils_res_ez['sn_fo'] + ils_res_ez['sn_so']) / dbw['t_int']),\n",
    "                'local': \n",
    "            ils_res['pn_lz'].values[0] / dbw['t_int'],\n",
    "                }\n",
    "\n",
    "kind_total = {\n",
    "            'fundamental': np.sqrt(ils_res['pn_sgl'].values[0]**2 + ils_res['pn_ez'].values[0]**2 + ils_res['pn_lz'].values[0]**2) / dbw['t_int'],\n",
    "            'instrumental': np.sqrt((ils_res['pn_snfl'].values[0])) / dbw['t_int'],\n",
    "            'first_order': np.sqrt(ils_res['sn_fo'].values[0]) / dbw['t_int'],\n",
    "            'second_order': np.sqrt(ils_res['sn_so'].values[0]) / dbw['t_int']\n",
    "}"
   ],
   "id": "b6a0e432f4c5124e",
   "outputs": [
    {
     "name": "stderr",
     "output_type": "stream",
     "text": [
      "/var/folders/rs/chvp5qfj3j76n4gdp708g4vc0000gn/T/ipykernel_4546/1084792482.py:1: FutureWarning: Calling float on a single element Series is deprecated and will raise a TypeError in the future. Use float(ser.iloc[0]) instead\n",
      "  source_total = {'star': float(np.sqrt(ils_res_star['pn_sgl'].values[0]**2 + ils_res_star['pn_snfl'] + ils_res_star['sn_fo'] + ils_res_star['sn_so']) / dbw['t_int']),\n",
      "/var/folders/rs/chvp5qfj3j76n4gdp708g4vc0000gn/T/ipykernel_4546/1084792482.py:3: FutureWarning: Calling float on a single element Series is deprecated and will raise a TypeError in the future. Use float(ser.iloc[0]) instead\n",
      "  float(np.sqrt(ils_res_ez['pn_ez'].values[0]**2 + ils_res_ez['pn_snfl'] + ils_res_ez['sn_fo'] + ils_res_ez['sn_so']) / dbw['t_int']),\n"
     ]
    }
   ],
   "execution_count": 9
  },
  {
   "metadata": {
    "ExecuteTime": {
     "end_time": "2025-04-21T14:35:03.248596Z",
     "start_time": "2025-04-21T14:35:03.236266Z"
    }
   },
   "cell_type": "code",
   "source": [
    "print('Total random noise: {:.1e} ph s-1'.format(total_random))\n",
    "print('Fundamental random noise: {:.1e} ph s-1'.format(kind_total['fundamental']))\n",
    "print('Instrumental random noise: {:.1e} ph s-1'.format(kind_total['instrumental']))\n",
    "print('')\n",
    "print('Total systematic noise: {:.1e} ph s-1'.format(total_syst))\n",
    "print('First order systematic noise: {:.1e} ph s-1'.format(kind_total['first_order']))\n",
    "print('Second order systematic noise: {:.1e} ph s-1'.format(kind_total['second_order']))\n",
    "print('')\n",
    "\n",
    "print('Total noise: {:.1e} ph s-1'.format(total_noise))\n",
    "print('Signal: {:.1e} ph s-1'.format(signal))\n",
    "print('')\n",
    "\n",
    "print('T_alpha: {:.2f}'.format(test_stat))\n",
    "print('Variance ratio: {:.2f}'.format(sigma_imb_gauss))"
   ],
   "id": "47a8aa492ab68450",
   "outputs": [
    {
     "name": "stdout",
     "output_type": "stream",
     "text": [
      "Total random noise: 6.1e-03 ph s-1\n",
      "Fundamental random noise: 6.1e-03 ph s-1\n",
      "Instrumental random noise: 2.0e-05 ph s-1\n",
      "\n",
      "Total systematic noise: 5.8e-03 ph s-1\n",
      "First order systematic noise: 3.3e-04 ph s-1\n",
      "Second order systematic noise: 5.8e-03 ph s-1\n",
      "\n",
      "Total noise: 8.4e-03 ph s-1\n",
      "Signal: 7.1e-02 ph s-1\n",
      "\n",
      "T_alpha: 8.42\n",
      "Variance ratio: 0.96\n"
     ]
    }
   ],
   "execution_count": 10
  },
  {
   "metadata": {
    "ExecuteTime": {
     "end_time": "2025-04-21T14:35:03.335740Z",
     "start_time": "2025-04-21T14:35:03.314958Z"
    }
   },
   "cell_type": "code",
   "source": [
    "result_table = pd.DataFrame(\n",
    "    columns=['Fundamental',\n",
    "             'Instrumental',\n",
    "             'First order',\n",
    "             'Second order'],\n",
    "    index=['Star', 'Exo-zodi', 'Local-zodi'],\n",
    "    data=[[\n",
    "        ils_res['pn_sgl'].values[0] / dbw['t_int'],\n",
    "        np.sqrt(ils_res_star['pn_snfl'].values[0]) / dbw['t_int'],\n",
    "        np.sqrt(ils_res_star['sn_fo'].values[0]) / dbw['t_int'],\n",
    "        np.sqrt(ils_res_star['sn_so'].values[0]) / dbw['t_int']\n",
    "    ],\n",
    "        [\n",
    "            ils_res['pn_ez'].values[0] / dbw['t_int'],\n",
    "            np.sqrt(ils_res_ez['pn_snfl'].values[0]) / dbw['t_int'],\n",
    "            np.sqrt(ils_res_ez['sn_fo'].values[0]) / dbw['t_int'],\n",
    "            np.sqrt(ils_res_ez['sn_so'].values[0]) / dbw['t_int']\n",
    "        ],\n",
    "        [\n",
    "            ils_res['pn_lz'].values[0] / dbw['t_int'],\n",
    "            '-',\n",
    "            '-',\n",
    "            '-'\n",
    "        ]]\n",
    ")\n",
    "\n",
    "# Function to format numbers in scientific notation\n",
    "def format_scientific(value):\n",
    "    if isinstance(value, str):  # Keep dashes as is\n",
    "        return value\n",
    "    return \"{:.1e}\".format(value)\n",
    "\n",
    "# Use applymap for formatting\n",
    "result_table = result_table.applymap(format_scientific)\n",
    "\n",
    "# Output the result table\n",
    "print(result_table)"
   ],
   "id": "73b2a88d24a64e05",
   "outputs": [
    {
     "name": "stdout",
     "output_type": "stream",
     "text": [
      "           Fundamental Instrumental First order Second order\n",
      "Star           4.4e-03      2.0e-05     3.3e-04      5.8e-03\n",
      "Exo-zodi       1.7e-03      1.2e-06     1.2e-07      1.3e-09\n",
      "Local-zodi     3.8e-03            -           -            -\n"
     ]
    },
    {
     "name": "stderr",
     "output_type": "stream",
     "text": [
      "/var/folders/rs/chvp5qfj3j76n4gdp708g4vc0000gn/T/ipykernel_4546/45013794.py:34: FutureWarning: DataFrame.applymap has been deprecated. Use DataFrame.map instead.\n",
      "  result_table = result_table.applymap(format_scientific)\n"
     ]
    }
   ],
   "execution_count": 11
  }
 ],
 "metadata": {
  "kernelspec": {
   "display_name": "Python 3",
   "language": "python",
   "name": "python3"
  },
  "language_info": {
   "codemirror_mode": {
    "name": "ipython",
    "version": 2
   },
   "file_extension": ".py",
   "mimetype": "text/x-python",
   "name": "python",
   "nbconvert_exporter": "python",
   "pygments_lexer": "ipython2",
   "version": "2.7.6"
  }
 },
 "nbformat": 4,
 "nbformat_minor": 5
}
